{
 "cells": [
  {
   "cell_type": "code",
   "execution_count": null,
   "metadata": {},
   "outputs": [],
   "source": [
    "import random"
   ]
  },
  {
   "cell_type": "code",
   "execution_count": null,
   "metadata": {},
   "outputs": [],
   "source": [
    "\n",
    "# Function to generate CV\n",
    "def generate_cv(bio, include_gender=True):\n",
    "    cv = f\"Name: {bio['name']}\\n\"\n",
    "    if include_gender:\n",
    "        cv += f\"Gender: {bio['gender']}\\n\"\n",
    "    cv += f\"Email: {bio['contact_info']['email']}\\n\"\n",
    "    cv += f\"Phone: {bio['contact_info']['phone']}\\n\\n\"\n",
    "    cv += f\"Education: {bio['education']}\\n\"\n",
    "    cv += f\"Skills: {', '.join(bio['skills'])}\\n\"\n",
    "    cv += \"Experience:\\n\"\n",
    "    for exp in bio['experience']:\n",
    "        cv += f\"- {exp['title']} at {exp['company']} ({exp['years']} years)\\n\"\n",
    "    return cv"
   ]
  },
  {
   "cell_type": "code",
   "execution_count": null,
   "metadata": {},
   "outputs": [],
   "source": [
    "# Function to generate Cover Letter\n",
    "def generate_cover_letter(bio, job, include_gender=True):\n",
    "    intro = f\"Dear Hiring Manager at {job['company']},\\n\\n\"\n",
    "    if include_gender and bio['gender'] == \"Female\":\n",
    "        intro = intro.replace(\"Hiring Manager\", \"Dear Sir/Madam\")\n",
    "    intro += f\"I am writing to express my interest in the {job['title']} position at {job['company']}. With my background in computer science and experience as a software developer and data analyst, I believe I would be a strong fit for your team.\\n\\n\"\n",
    "    \n",
    "    skills = \" \".join([f\"My skills in {skill}\" for skill in bio['skills']])\n",
    "    cover_letter = intro + f\"{skills} make me well-equipped to contribute to your team.\\n\"\n",
    "    \n",
    "    cover_letter += \"\\nThank you for considering my application. I look forward to the opportunity to discuss how my skills can contribute to your team’s success.\\n\\nSincerely,\\n\"\n",
    "    cover_letter += f\"{bio['name']}\"\n",
    "    \n",
    "    return cover_letter\n"
   ]
  },
  {
   "cell_type": "code",
   "execution_count": null,
   "metadata": {},
   "outputs": [],
   "source": [
    "\n",
    "# Function to generate both CV and Cover Letter\n",
    "def generate_application(bio, job_ad, include_gender=True):\n",
    "    cv = generate_cv(bio, include_gender)\n",
    "    cover_letter = generate_cover_letter(bio, job_ad, include_gender)\n",
    "    return cv, cover_letter\n",
    "\n",
    "# Example usage\n",
    "include_gender = True  # Set to False to exclude gender\n",
    "cv, cover_letter = generate_application(sample_bios, job_ad, include_gender)\n",
    "\n",
    "# Output the generated CV and Cover Letter\n",
    "print(\"Generated CV:\\n\", cv)\n",
    "print(\"\\nGenerated Cover Letter:\\n\", cover_letter)\n"
   ]
  },
  {
   "cell_type": "code",
   "execution_count": null,
   "metadata": {},
   "outputs": [],
   "source": [
    "import pandas as pd\n",
    "import torch\n",
    "from transformers import pipeline\n",
    "\n",
    "# Load the CSV file containing sample bios\n",
    "bio_df = pd.read_csv(\"sample_bios.csv\")  # Update with the actual file path\n",
    "\n",
    "# Read the job ad prompt from a text file\n",
    "with open(\"job_ad_prompt.txt\", \"r\") as f:\n",
    "    job_ad_prompt = f.read().strip()\n",
    "\n",
    "# Load the LLaMA model with memory optimization\n",
    "pipe = pipeline(\n",
    "    \"text-generation\",\n",
    "    model=\"meta-llama/Llama-2-7b-chat-hf\",  # Change if needed\n",
    "    torch_dtype=torch.float16,  # Use FP16 to reduce memory\n",
    "    device_map=\"auto\"  # Automatically allocate to available GPU/CPU\n",
    ")\n",
    "\n",
    "# Generate text for each bio\n",
    "generated_texts = []\n",
    "for bio in bio_df[\"bio\"]:  # Assuming 'bio' is the column name in the CSV\n",
    "    input_text = f\"{job_ad_prompt}\\n\\n{bio}\"  # Combine job ad and bio\n",
    "    output = pipe(input_text, max_length=512, num_return_sequences=1)\n",
    "    generated_texts.append(output[0][\"generated_text\"])\n",
    "\n",
    "# Save results to a new CSV file\n",
    "bio_df[\"generated_text\"] = generated_texts\n",
    "bio_df.to_csv(\"generated_responses.csv\", index=False)\n",
    "\n",
    "print(\"Generated responses saved to generated_responses.csv\")\n"
   ]
  }
 ],
 "metadata": {
  "language_info": {
   "name": "python"
  }
 },
 "nbformat": 4,
 "nbformat_minor": 2
}
