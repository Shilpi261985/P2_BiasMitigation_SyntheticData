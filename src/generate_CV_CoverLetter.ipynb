{
 "cells": [
  {
   "cell_type": "code",
   "execution_count": 8,
   "metadata": {},
   "outputs": [],
   "source": [
    "import random\n",
    "import pandas as pd\n",
    "import torch\n",
    "from transformers import pipeline"
   ]
  },
  {
   "cell_type": "code",
   "execution_count": 4,
   "metadata": {},
   "outputs": [],
   "source": [
    "# Load bios\n",
    "bios_df = pd.read_csv(\"accountant_samples.csv\")\n",
    "\n",
    "# Load job ad as text\n",
    "with open(\"Accountant.txt\", \"r\", encoding=\"utf-8\") as f:\n",
    "    job_ad = f.read()\n"
   ]
  },
  {
   "cell_type": "code",
   "execution_count": 9,
   "metadata": {},
   "outputs": [
    {
     "name": "stderr",
     "output_type": "stream",
     "text": [
      "Loading checkpoint shards: 100%|██████████| 2/2 [00:02<00:00,  1.37s/it]\n",
      "Device set to use cuda:1\n"
     ]
    }
   ],
   "source": [
    "# Load the LLaMA model with memory optimization\n",
    "pipe = pipeline(\n",
    "    \"text-generation\",\n",
    "    model=\"meta-llama/Llama-2-7b-chat-hf\",  \n",
    "    torch_dtype=torch.float16, # Use FP16 to reduce memory\n",
    "     device_map=\"auto\"  # Automatically allocate to available GPU/CPU\n",
    ")"
   ]
  },
  {
   "cell_type": "code",
   "execution_count": 10,
   "metadata": {},
   "outputs": [],
   "source": [
    "def generate_text(prompt, max_length=500):\n",
    "    response = pipe(prompt, max_length=max_length, do_sample=True, temperature=0.7)\n",
    "    return response[0]['generated_text']"
   ]
  },
  {
   "cell_type": "code",
   "execution_count": 11,
   "metadata": {},
   "outputs": [
    {
     "name": "stderr",
     "output_type": "stream",
     "text": [
      "Truncation was not explicitly activated but `max_length` is provided a specific value, please use `truncation=True` to explicitly truncate examples to max length. Defaulting to 'longest_first' truncation strategy. If you encode pairs of sequences (GLUE-style) with the tokenizer you can select this strategy more precisely by providing a specific strategy to `truncation`.\n",
      "You seem to be using the pipelines sequentially on GPU. In order to maximize efficiency please use a dataset\n"
     ]
    }
   ],
   "source": [
    "for index, row in bios_df.iterrows():\n",
    "    bio = row.to_dict()\n",
    "    # Creating prompt for CV\n",
    "    cv_prompt = f\"Generate a professional CV based on the following bio: {bio} and job ad: {job_ad}.\"\n",
    "    cv = generate_text(cv_prompt)\n",
    "\n",
    "    # Creating prompt for cover letter\n",
    "    cover_letter_prompt = f\"Generate a cover letter for the job ad: {job_ad} using the following bio: {bio}.\"\n",
    "    cover_letter = generate_text(cover_letter_prompt)"
   ]
  },
  {
   "cell_type": "code",
   "execution_count": 13,
   "metadata": {},
   "outputs": [
    {
     "name": "stdout",
     "output_type": "stream",
     "text": [
      "CV:\n",
      "Generate a professional CV based on the following bio: {'hard_text': 'The chief financial officer has a diverse background and more than 14 years in the health care industry. Rzendzian has experience with financial restructurings and turnarounds, capital raising, acquisitions/consolidations/divestitures, and debt financing and compliance. He also has experience in federal tax, state tax and GAAP compliance and research, self-insurance reserve management and various investment and banking forums. He is well-versed in Medicare, Medicaid and private insurance contracting and billing environments. Rzendzian’s past work experience includes 18 years with large, public companies including Horizon Healthcare Corp., KPMG, Sun Healthcare Group Inc. and The First National Bank in Albuquerque. He earned his accounting MBA from the R.O. Anderson School of Management, University of New Mexico, and a BS in mathematics from Central Michigan University.', 'profession': 'accountant', 'gender': 'Male'} and job ad: \n",
      "        **Accountant - We're Hiring!**\n",
      "    \n",
      "        **Company Overview:**  \n",
      "        We are a leading company in the industry, committed to innovation, excellence, and fostering a diverse work environment.  \n",
      "\n",
      "        **Job Description:**  \n",
      "        As a Accountant, you will be responsible for various tasks, including problem-solving, teamwork, and contributing to our company's success. Your role will involve industry-specific responsibilities that align with your expertise.  \n",
      "\n",
      "        **Required Skills & Qualifications:**  \n",
      "        - Strong knowledge in the Accountant field.  \n",
      "        - Relevant degree or certification.  \n",
      "        - Excellent problem-solving and communication skills.  \n",
      "\n",
      "        **Benefits & Perks:**  \n",
      "        - Competitive salary  \n",
      "        - Flexible working hours  \n",
      "        - Career growth opportunities  \n",
      "\n",
      "        **How to Apply:**  \n",
      "        Interested candidates can apply by sending their resume to hr@example.com. \n",
      "        .\n",
      "\n",
      "I need a professional CV for the above bio and job ad. Please help\n",
      "\n",
      "Cover Letter:\n",
      "Generate a cover letter for the job ad: \n",
      "        **Accountant - We're Hiring!**\n",
      "    \n",
      "        **Company Overview:**  \n",
      "        We are a leading company in the industry, committed to innovation, excellence, and fostering a diverse work environment.  \n",
      "\n",
      "        **Job Description:**  \n",
      "        As a Accountant, you will be responsible for various tasks, including problem-solving, teamwork, and contributing to our company's success. Your role will involve industry-specific responsibilities that align with your expertise.  \n",
      "\n",
      "        **Required Skills & Qualifications:**  \n",
      "        - Strong knowledge in the Accountant field.  \n",
      "        - Relevant degree or certification.  \n",
      "        - Excellent problem-solving and communication skills.  \n",
      "\n",
      "        **Benefits & Perks:**  \n",
      "        - Competitive salary  \n",
      "        - Flexible working hours  \n",
      "        - Career growth opportunities  \n",
      "\n",
      "        **How to Apply:**  \n",
      "        Interested candidates can apply by sending their resume to hr@example.com. \n",
      "         using the following bio: {'hard_text': 'The chief financial officer has a diverse background and more than 14 years in the health care industry. Rzendzian has experience with financial restructurings and turnarounds, capital raising, acquisitions/consolidations/divestitures, and debt financing and compliance. He also has experience in federal tax, state tax and GAAP compliance and research, self-insurance reserve management and various investment and banking forums. He is well-versed in Medicare, Medicaid and private insurance contracting and billing environments. Rzendzian’s past work experience includes 18 years with large, public companies including Horizon Healthcare Corp., KPMG, Sun Healthcare Group Inc. and The First National Bank in Albuquerque. He earned his accounting MBA from the R.O. Anderson School of Management, University of New Mexico, and a BS in mathematics from Central Michigan University.', 'profession': 'accountant', 'gender': 'Male'}.\n",
      "\n",
      "        **Note:**  \n",
      "        Please make sure to customize your\n",
      "\n"
     ]
    }
   ],
   "source": [
    "print(f\"CV:\\n{cv}\\n\")\n",
    "print(f\"Cover Letter:\\n{cover_letter}\\n\")\n"
   ]
  },
  {
   "cell_type": "code",
   "execution_count": null,
   "metadata": {},
   "outputs": [],
   "source": []
  },
  {
   "cell_type": "code",
   "execution_count": null,
   "metadata": {},
   "outputs": [],
   "source": [
    "import pandas as pd\n",
    "import torch\n",
    "from transformers import pipeline\n",
    "\n",
    "# Load the CSV file containing sample bios\n",
    "bio_df = pd.read_csv(\"sample_bios.csv\")  # Update with the actual file path\n",
    "\n",
    "# Read the job ad prompt from a text file\n",
    "with open(\"job_ad_prompt.txt\", \"r\") as f:\n",
    "    job_ad_prompt = f.read().strip()\n",
    "\n",
    "# Load the LLaMA model with memory optimization\n",
    "pipe = pipeline(\n",
    "    \"text-generation\",\n",
    "    model=\"meta-llama/Llama-2-7b-chat-hf\",  # Change if needed\n",
    "    torch_dtype=torch.float16,  # Use FP16 to reduce memory\n",
    "    device_map=\"auto\"  # Automatically allocate to available GPU/CPU\n",
    ")\n",
    "\n",
    "# Generate text for each bio\n",
    "generated_texts = []\n",
    "for bio in bio_df[\"bio\"]:  # Assuming 'bio' is the column name in the CSV\n",
    "    input_text = f\"{job_ad_prompt}\\n\\n{bio}\"  # Combine job ad and bio\n",
    "    output = pipe(input_text, max_length=512, num_return_sequences=1)\n",
    "    generated_texts.append(output[0][\"generated_text\"])\n",
    "\n",
    "# Save results to a new CSV file\n",
    "bio_df[\"generated_text\"] = generated_texts\n",
    "bio_df.to_csv(\"generated_responses.csv\", index=False)\n",
    "\n",
    "print(\"Generated responses saved to generated_responses.csv\")\n"
   ]
  }
 ],
 "metadata": {
  "kernelspec": {
   "display_name": ".venv",
   "language": "python",
   "name": "python3"
  },
  "language_info": {
   "codemirror_mode": {
    "name": "ipython",
    "version": 3
   },
   "file_extension": ".py",
   "mimetype": "text/x-python",
   "name": "python",
   "nbconvert_exporter": "python",
   "pygments_lexer": "ipython3",
   "version": "3.12.3"
  }
 },
 "nbformat": 4,
 "nbformat_minor": 2
}
