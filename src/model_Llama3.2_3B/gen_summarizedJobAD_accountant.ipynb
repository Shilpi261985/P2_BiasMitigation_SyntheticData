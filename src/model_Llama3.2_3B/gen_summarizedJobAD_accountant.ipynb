{
 "cells": [
  {
   "cell_type": "code",
   "execution_count": 20,
   "metadata": {},
   "outputs": [],
   "source": [
    "import os\n",
    "import glob\n",
    "import re\n",
    "import pandas as pd\n",
    "import torch\n",
    "from transformers import pipeline, AutoModelForCausalLM, AutoTokenizer, TextStreamer"
   ]
  },
  {
   "cell_type": "code",
   "execution_count": 48,
   "metadata": {},
   "outputs": [
    {
     "name": "stderr",
     "output_type": "stream",
     "text": [
      "Loading checkpoint shards: 100%|██████████| 2/2 [00:01<00:00,  1.43it/s]\n"
     ]
    }
   ],
   "source": [
    "# Load the model meta-llama\n",
    "model_id = \"meta-llama/Llama-3.2-3B-Instruct\"\n",
    "\n",
    "tokenizer = AutoTokenizer.from_pretrained(model_id)\n",
    "model = AutoModelForCausalLM.from_pretrained(model_id, device_map='auto', torch_dtype=torch.float16)\n",
    "streamer = TextStreamer(tokenizer, skip_prompt=True, skip_special_tokens=True)\n"
   ]
  },
  {
   "cell_type": "code",
   "execution_count": 49,
   "metadata": {},
   "outputs": [
    {
     "name": "stderr",
     "output_type": "stream",
     "text": [
      "Device set to use cpu\n"
     ]
    }
   ],
   "source": [
    "# Load the LLaMA model with text generation pipeline\n",
    "pipe = pipeline(\n",
    "    \"text-generation\",\n",
    "    model=model,\n",
    "    tokenizer=tokenizer\n",
    "   # device=0 if torch.cuda.is_available() else -1  \n",
    ")"
   ]
  },
  {
   "cell_type": "code",
   "execution_count": 50,
   "metadata": {},
   "outputs": [],
   "source": [
    "FOLDER_PATH = \"job_ads/jobADs_Llama3.2\"  # Path to folder with job ads\n",
    "OUTPUT_PATH = \"job_ads/accountant_summary_llama3.txt\"  # Output summary file\n",
    "MAX_NEW_TOKENS = 2048 "
   ]
  },
  {
   "cell_type": "code",
   "execution_count": 54,
   "metadata": {},
   "outputs": [],
   "source": [
    "def load_job_ads(folder_path):\n",
    "    job_ads = []\n",
    "    for file in os.listdir(folder_path):\n",
    "        if file.endswith(\".txt\"):\n",
    "            with open(os.path.join(folder_path, file), 'r', encoding='utf-8') as f:\n",
    "                job_ads.append(f.read().strip())\n",
    "    return job_ads"
   ]
  },
  {
   "cell_type": "code",
   "execution_count": 59,
   "metadata": {},
   "outputs": [],
   "source": [
    "with open(\"prompts/prompt_summarizedJobAD_Accountant.txt\", \"r\") as f:  #path to job ad prompt text file \n",
    "    job_ad_prompt = f.read()"
   ]
  },
  {
   "cell_type": "code",
   "execution_count": 60,
   "metadata": {},
   "outputs": [],
   "source": [
    "def build_prompt(job_ads, job_title=\"Accountant\"):\n",
    "    combined = \"\\n\\n---\\n\\n\".join(job_ads)\n",
    "    prompt =job_ad_prompt\n",
    "    return prompt"
   ]
  },
  {
   "cell_type": "code",
   "execution_count": 62,
   "metadata": {},
   "outputs": [
    {
     "name": "stderr",
     "output_type": "stream",
     "text": [
      "Setting `pad_token_id` to `eos_token_id`:128001 for open-end generation.\n"
     ]
    },
    {
     "name": "stdout",
     "output_type": "stream",
     "text": [
      "\n",
      "\n",
      "# Accountant\n",
      "We are seeking a highly skilled and detail-oriented Accountant to join our team. The successful candidate will be responsible for managing financial records, preparing financial statements, and ensuring compliance with accounting regulations.\n",
      "\n",
      "# Key Responsibilities\n",
      "- Prepare and review financial statements, including balance sheets and income statements\n",
      "- Manage and reconcile financial records, including accounts payable and accounts receivable\n",
      "- Ensure compliance with accounting regulations and standards\n",
      "- Analyze financial data to identify trends and areas for improvement\n",
      "- Provide financial guidance and support to management and staff\n",
      "\n",
      "# Required Qualifications\n",
      "- Bachelor's degree in Accounting or related field\n",
      "- Certified Public Accountant (CPA) certification preferred\n",
      "- 2+ years of experience in accounting and financial management\n",
      "- Strong analytical and problem-solving skills\n",
      "- Excellent communication and interpersonal skills\n",
      "\n",
      "# Benefits\n",
      "- Competitive salary and benefits package\n",
      "- Opportunities for professional growth and development\n",
      "- Collaborative and dynamic work environment\n",
      "- Flexible work arrangements\n",
      "\n",
      "To apply, please submit your resume and cover letter to [careers@company.com](mailto:careers@company.com) or visit our website at [www.company.com/careers](http://www.company.com/careers). We are an equal opportunity employer and welcome applications from diverse candidates.\n",
      "\n",
      "Job ad saved to: job_ads/accountant_summary_llama3.txt\n"
     ]
    }
   ],
   "source": [
    "\n",
    "# Run Inference ===\n",
    "def generate_summary(prompt, max_tokens=1024):\n",
    "    inputs = tokenizer(prompt, return_tensors=\"pt\").to(model.device)\n",
    "    output = model.generate(\n",
    "        **inputs,\n",
    "        max_new_tokens=max_tokens,\n",
    "        streamer=streamer,\n",
    "        temperature=0.3,\n",
    "        top_p=1.0,\n",
    "        do_sample=True\n",
    "    )\n",
    "\n",
    "    # Decode only the newly generated tokens (skip input tokens)\n",
    "    generated_tokens = output[0][inputs['input_ids'].shape[-1]:]\n",
    "    generated_text = tokenizer.decode(generated_tokens, skip_special_tokens=True)\n",
    "    return generated_text.strip()\n",
    "   \n",
    "\n",
    "# ===  Main Execution ===\n",
    "job_ads = load_job_ads(FOLDER_PATH)\n",
    "prompt = build_prompt(job_ads)\n",
    "summary = generate_summary(prompt)\n",
    "\n",
    "with open(OUTPUT_PATH, \"w\", encoding=\"utf-8\") as f:\n",
    "    f.write(summary)\n",
    "\n",
    "print(f\"\\nJob ad saved to: {OUTPUT_PATH}\")\n",
    "\n"
   ]
  }
 ],
 "metadata": {
  "kernelspec": {
   "display_name": ".venv",
   "language": "python",
   "name": "python3"
  },
  "language_info": {
   "codemirror_mode": {
    "name": "ipython",
    "version": 3
   },
   "file_extension": ".py",
   "mimetype": "text/x-python",
   "name": "python",
   "nbconvert_exporter": "python",
   "pygments_lexer": "ipython3",
   "version": "3.12.3"
  }
 },
 "nbformat": 4,
 "nbformat_minor": 2
}
