{
 "cells": [
  {
   "cell_type": "code",
   "execution_count": 3,
   "metadata": {},
   "outputs": [
    {
     "name": "stderr",
     "output_type": "stream",
     "text": [
      "c:\\Users\\itssh\\anaconda\\envs\\Env_python3_10\\lib\\site-packages\\tqdm\\auto.py:21: TqdmWarning: IProgress not found. Please update jupyter and ipywidgets. See https://ipywidgets.readthedocs.io/en/stable/user_install.html\n",
      "  from .autonotebook import tqdm as notebook_tqdm\n"
     ]
    }
   ],
   "source": [
    "from datasets import load_dataset\n",
    "import pickle\n",
    "import pandas as pd\n"
   ]
  },
  {
   "cell_type": "markdown",
   "metadata": {},
   "source": [
    "1. Load the dataset from Hugging Face, https://huggingface.co/datasets/LabHC/bias_in_bios"
   ]
  },
  {
   "cell_type": "code",
   "execution_count": 4,
   "metadata": {},
   "outputs": [
    {
     "name": "stderr",
     "output_type": "stream",
     "text": [
      "c:\\Users\\itssh\\anaconda\\envs\\Env_python3_10\\lib\\site-packages\\scipy\\__init__.py:155: UserWarning: A NumPy version >=1.18.5 and <1.26.0 is required for this version of SciPy (detected version 1.26.4\n",
      "  warnings.warn(f\"A NumPy version >={np_minversion} and <{np_maxversion}\"\n"
     ]
    }
   ],
   "source": [
    "dataset = load_dataset(\"LabHC/bias_in_bios\")"
   ]
  },
  {
   "cell_type": "markdown",
   "metadata": {},
   "source": [
    "As the data is already split in train, test and dev, we need to concatenate the data to get one whole dataframe."
   ]
  },
  {
   "cell_type": "code",
   "execution_count": 5,
   "metadata": {},
   "outputs": [
    {
     "name": "stdout",
     "output_type": "stream",
     "text": [
      "                                           hard_text  profession  gender\n",
      "0  He is also the project lead of and major contr...          21       0\n",
      "1  She is able to assess, diagnose and treat mino...          13       1\n",
      "2  Prior to law school, Brittni graduated magna c...           2       1\n",
      "3  He regularly contributes to India’s First Onli...          11       0\n",
      "4  He completed his medical degree at Northwester...          21       0\n"
     ]
    }
   ],
   "source": [
    "df_train = pd.DataFrame(dataset['train'])\n",
    "df_test = pd.DataFrame(dataset['test'])\n",
    "df_valid = pd.DataFrame(dataset['dev'])\n",
    "\n",
    "# Combine all into one DataFrame\n",
    "df = pd.concat([df_train, df_test, df_valid], ignore_index=True)\n",
    "\n",
    "print(df.head())  # View first few rows\n"
   ]
  },
  {
   "cell_type": "code",
   "execution_count": 7,
   "metadata": {},
   "outputs": [
    {
     "data": {
      "text/plain": [
       "(396189, 3)"
      ]
     },
     "execution_count": 7,
     "metadata": {},
     "output_type": "execute_result"
    }
   ],
   "source": [
    "df.shape        #size of whole dataset"
   ]
  },
  {
   "cell_type": "code",
   "execution_count": 8,
   "metadata": {},
   "outputs": [
    {
     "name": "stdout",
     "output_type": "stream",
     "text": [
      "DatasetDict({\n",
      "    train: Dataset({\n",
      "        features: ['hard_text', 'profession', 'gender'],\n",
      "        num_rows: 257478\n",
      "    })\n",
      "    test: Dataset({\n",
      "        features: ['hard_text', 'profession', 'gender'],\n",
      "        num_rows: 99069\n",
      "    })\n",
      "    dev: Dataset({\n",
      "        features: ['hard_text', 'profession', 'gender'],\n",
      "        num_rows: 39642\n",
      "    })\n",
      "})\n"
     ]
    }
   ],
   "source": [
    "print(dataset)"
   ]
  },
  {
   "cell_type": "code",
   "execution_count": 9,
   "metadata": {},
   "outputs": [],
   "source": [
    "df_sample = df.sample(n=5, random_state=42)"
   ]
  },
  {
   "cell_type": "code",
   "execution_count": 10,
   "metadata": {},
   "outputs": [
    {
     "data": {
      "text/html": [
       "<div>\n",
       "<style scoped>\n",
       "    .dataframe tbody tr th:only-of-type {\n",
       "        vertical-align: middle;\n",
       "    }\n",
       "\n",
       "    .dataframe tbody tr th {\n",
       "        vertical-align: top;\n",
       "    }\n",
       "\n",
       "    .dataframe thead th {\n",
       "        text-align: right;\n",
       "    }\n",
       "</style>\n",
       "<table border=\"1\" class=\"dataframe\">\n",
       "  <thead>\n",
       "    <tr style=\"text-align: right;\">\n",
       "      <th></th>\n",
       "      <th>hard_text</th>\n",
       "      <th>profession</th>\n",
       "      <th>gender</th>\n",
       "    </tr>\n",
       "  </thead>\n",
       "  <tbody>\n",
       "    <tr>\n",
       "      <th>204648</th>\n",
       "      <td>He practices in Abilene, Texas and has the pro...</td>\n",
       "      <td>6</td>\n",
       "      <td>0</td>\n",
       "    </tr>\n",
       "    <tr>\n",
       "      <th>214358</th>\n",
       "      <td>Prior to joining Skin Solutions Dermatology, H...</td>\n",
       "      <td>19</td>\n",
       "      <td>1</td>\n",
       "    </tr>\n",
       "    <tr>\n",
       "      <th>146258</th>\n",
       "      <td>She is the author of two poetry collections, \"...</td>\n",
       "      <td>21</td>\n",
       "      <td>1</td>\n",
       "    </tr>\n",
       "    <tr>\n",
       "      <th>309728</th>\n",
       "      <td>As the faculty advisor for the Vanderbilt stud...</td>\n",
       "      <td>21</td>\n",
       "      <td>1</td>\n",
       "    </tr>\n",
       "    <tr>\n",
       "      <th>247901</th>\n",
       "      <td>She graduated with honors in 2010. Having more...</td>\n",
       "      <td>13</td>\n",
       "      <td>1</td>\n",
       "    </tr>\n",
       "  </tbody>\n",
       "</table>\n",
       "</div>"
      ],
      "text/plain": [
       "                                                hard_text  profession  gender\n",
       "204648  He practices in Abilene, Texas and has the pro...           6       0\n",
       "214358  Prior to joining Skin Solutions Dermatology, H...          19       1\n",
       "146258  She is the author of two poetry collections, \"...          21       1\n",
       "309728  As the faculty advisor for the Vanderbilt stud...          21       1\n",
       "247901  She graduated with honors in 2010. Having more...          13       1"
      ]
     },
     "execution_count": 10,
     "metadata": {},
     "output_type": "execute_result"
    }
   ],
   "source": [
    "df_sample"
   ]
  },
  {
   "cell_type": "markdown",
   "metadata": {},
   "source": [
    "Mapping of the occupation with the 'profession' column as described in Bias_in_Bios Dataset documentation."
   ]
  },
  {
   "cell_type": "code",
   "execution_count": 11,
   "metadata": {},
   "outputs": [],
   "source": [
    "occupation_mapping = {\n",
    "    0: \"accountant\",\n",
    "    1: \"architect\",\n",
    "    2: \"attorney\",\n",
    "    3: \"chiropractor\",\n",
    "    4: \"comedian\",\n",
    "    5: \"composer\",\n",
    "    6: \"dentist\",\n",
    "    7: \"dietitian\",\n",
    "    8: \"dj\",\n",
    "    9: \"filmmaker\",\n",
    "    10: \"interior_designer\",\n",
    "    11: \"journalist\",\n",
    "    12: \"model\",\n",
    "    13: \"nurse\",\n",
    "    14: \"painter\",\n",
    "    15: \"paralegal\",\n",
    "    16: \"pastor\",\n",
    "    17: \"personal_trainer\",\n",
    "    18: \"photographer\",\n",
    "    19: \"physician\",\n",
    "    20: \"poet\",\n",
    "    21: \"professor\",\n",
    "    22: \"psychologist\",\n",
    "    23: \"rapper\",\n",
    "    24: \"software_engineer\",\n",
    "    25: \"surgeon\",\n",
    "    26: \"teacher\",\n",
    "    27: \"yoga_teacher\"\n",
    "}"
   ]
  },
  {
   "cell_type": "markdown",
   "metadata": {},
   "source": [
    "Mapping of 'gender' column with 'Male' and 'Female'"
   ]
  },
  {
   "cell_type": "code",
   "execution_count": 12,
   "metadata": {},
   "outputs": [],
   "source": [
    "gender_mapping = {\n",
    "    0: \"Male\",\n",
    "    1: \"Female\"\n",
    "}"
   ]
  },
  {
   "cell_type": "code",
   "execution_count": 13,
   "metadata": {},
   "outputs": [],
   "source": [
    "df['profession'] = df['profession'].map(occupation_mapping)\n",
    "df['gender'] = df['gender'].map(gender_mapping)\n"
   ]
  },
  {
   "cell_type": "code",
   "execution_count": 14,
   "metadata": {},
   "outputs": [
    {
     "data": {
      "text/html": [
       "<div>\n",
       "<style scoped>\n",
       "    .dataframe tbody tr th:only-of-type {\n",
       "        vertical-align: middle;\n",
       "    }\n",
       "\n",
       "    .dataframe tbody tr th {\n",
       "        vertical-align: top;\n",
       "    }\n",
       "\n",
       "    .dataframe thead th {\n",
       "        text-align: right;\n",
       "    }\n",
       "</style>\n",
       "<table border=\"1\" class=\"dataframe\">\n",
       "  <thead>\n",
       "    <tr style=\"text-align: right;\">\n",
       "      <th></th>\n",
       "      <th>hard_text</th>\n",
       "      <th>profession</th>\n",
       "      <th>gender</th>\n",
       "    </tr>\n",
       "  </thead>\n",
       "  <tbody>\n",
       "    <tr>\n",
       "      <th>0</th>\n",
       "      <td>He is also the project lead of and major contr...</td>\n",
       "      <td>professor</td>\n",
       "      <td>Male</td>\n",
       "    </tr>\n",
       "    <tr>\n",
       "      <th>1</th>\n",
       "      <td>She is able to assess, diagnose and treat mino...</td>\n",
       "      <td>nurse</td>\n",
       "      <td>Female</td>\n",
       "    </tr>\n",
       "    <tr>\n",
       "      <th>2</th>\n",
       "      <td>Prior to law school, Brittni graduated magna c...</td>\n",
       "      <td>attorney</td>\n",
       "      <td>Female</td>\n",
       "    </tr>\n",
       "    <tr>\n",
       "      <th>3</th>\n",
       "      <td>He regularly contributes to India’s First Onli...</td>\n",
       "      <td>journalist</td>\n",
       "      <td>Male</td>\n",
       "    </tr>\n",
       "    <tr>\n",
       "      <th>4</th>\n",
       "      <td>He completed his medical degree at Northwester...</td>\n",
       "      <td>professor</td>\n",
       "      <td>Male</td>\n",
       "    </tr>\n",
       "  </tbody>\n",
       "</table>\n",
       "</div>"
      ],
      "text/plain": [
       "                                           hard_text  profession  gender\n",
       "0  He is also the project lead of and major contr...   professor    Male\n",
       "1  She is able to assess, diagnose and treat mino...       nurse  Female\n",
       "2  Prior to law school, Brittni graduated magna c...    attorney  Female\n",
       "3  He regularly contributes to India’s First Onli...  journalist    Male\n",
       "4  He completed his medical degree at Northwester...   professor    Male"
      ]
     },
     "execution_count": 14,
     "metadata": {},
     "output_type": "execute_result"
    }
   ],
   "source": [
    "df.head()"
   ]
  },
  {
   "cell_type": "code",
   "execution_count": 15,
   "metadata": {},
   "outputs": [
    {
     "name": "stdout",
     "output_type": "stream",
     "text": [
      "Saved 10 samples for professor in professor_samples.csv\n",
      "Saved 10 samples for nurse in nurse_samples.csv\n",
      "Saved 10 samples for attorney in attorney_samples.csv\n",
      "Saved 10 samples for journalist in journalist_samples.csv\n",
      "Saved 10 samples for poet in poet_samples.csv\n",
      "Saved 10 samples for surgeon in surgeon_samples.csv\n",
      "Saved 10 samples for teacher in teacher_samples.csv\n",
      "Saved 10 samples for psychologist in psychologist_samples.csv\n",
      "Saved 10 samples for physician in physician_samples.csv\n",
      "Saved 10 samples for pastor in pastor_samples.csv\n",
      "Saved 10 samples for painter in painter_samples.csv\n",
      "Saved 10 samples for photographer in photographer_samples.csv\n",
      "Saved 10 samples for software_engineer in software_engineer_samples.csv\n",
      "Saved 10 samples for composer in composer_samples.csv\n",
      "Saved 10 samples for dentist in dentist_samples.csv\n",
      "Saved 10 samples for yoga_teacher in yoga_teacher_samples.csv\n",
      "Saved 10 samples for personal_trainer in personal_trainer_samples.csv\n",
      "Saved 10 samples for dietitian in dietitian_samples.csv\n",
      "Saved 10 samples for accountant in accountant_samples.csv\n",
      "Saved 10 samples for filmmaker in filmmaker_samples.csv\n",
      "Saved 10 samples for architect in architect_samples.csv\n",
      "Saved 10 samples for model in model_samples.csv\n",
      "Saved 10 samples for chiropractor in chiropractor_samples.csv\n",
      "Saved 10 samples for rapper in rapper_samples.csv\n",
      "Saved 10 samples for dj in dj_samples.csv\n",
      "Saved 10 samples for comedian in comedian_samples.csv\n",
      "Saved 10 samples for paralegal in paralegal_samples.csv\n",
      "Saved 10 samples for interior_designer in interior_designer_samples.csv\n"
     ]
    }
   ],
   "source": [
    "# Number of samples per occupation\n",
    "num_samples = 10 \n",
    "\n",
    "# Loop through each unique occupation\n",
    "for profession in df['profession'].unique():\n",
    "    # Filter dataset for the specific profession\n",
    "    df_filtered = df[df['profession'] == profession]\n",
    "    \n",
    "    # Sample N records \n",
    "    sampled_df = df_filtered.sample(n=min(num_samples, len(df_filtered)), random_state=42)\n",
    "    \n",
    "    # Save as CSV\n",
    "    filename = f\"{profession.replace(' ', '_').lower()}_samples.csv\"\n",
    "    sampled_df.to_csv(filename, index=False)\n",
    "    \n",
    "    print(f\"Saved {len(sampled_df)} samples for {profession} in {filename}\")\n"
   ]
  },
  {
   "cell_type": "code",
   "execution_count": 17,
   "metadata": {},
   "outputs": [
    {
     "data": {
      "text/html": [
       "<div>\n",
       "<style scoped>\n",
       "    .dataframe tbody tr th:only-of-type {\n",
       "        vertical-align: middle;\n",
       "    }\n",
       "\n",
       "    .dataframe tbody tr th {\n",
       "        vertical-align: top;\n",
       "    }\n",
       "\n",
       "    .dataframe thead th {\n",
       "        text-align: right;\n",
       "    }\n",
       "</style>\n",
       "<table border=\"1\" class=\"dataframe\">\n",
       "  <thead>\n",
       "    <tr style=\"text-align: right;\">\n",
       "      <th></th>\n",
       "      <th>hard_text</th>\n",
       "      <th>profession</th>\n",
       "      <th>gender</th>\n",
       "    </tr>\n",
       "  </thead>\n",
       "  <tbody>\n",
       "    <tr>\n",
       "      <th>0</th>\n",
       "      <td>He is a Salesforce MVP, with 5 Salesforce cert...</td>\n",
       "      <td>architect</td>\n",
       "      <td>Male</td>\n",
       "    </tr>\n",
       "    <tr>\n",
       "      <th>1</th>\n",
       "      <td>Her preferred alternate transportation is the ...</td>\n",
       "      <td>architect</td>\n",
       "      <td>Female</td>\n",
       "    </tr>\n",
       "    <tr>\n",
       "      <th>2</th>\n",
       "      <td>She leads the design and development of machin...</td>\n",
       "      <td>architect</td>\n",
       "      <td>Female</td>\n",
       "    </tr>\n",
       "    <tr>\n",
       "      <th>3</th>\n",
       "      <td>She strives to use her skills to benefit her c...</td>\n",
       "      <td>architect</td>\n",
       "      <td>Female</td>\n",
       "    </tr>\n",
       "    <tr>\n",
       "      <th>4</th>\n",
       "      <td>He received his Bachelor of Arts in Architectu...</td>\n",
       "      <td>architect</td>\n",
       "      <td>Male</td>\n",
       "    </tr>\n",
       "  </tbody>\n",
       "</table>\n",
       "</div>"
      ],
      "text/plain": [
       "                                           hard_text profession  gender\n",
       "0  He is a Salesforce MVP, with 5 Salesforce cert...  architect    Male\n",
       "1  Her preferred alternate transportation is the ...  architect  Female\n",
       "2  She leads the design and development of machin...  architect  Female\n",
       "3  She strives to use her skills to benefit her c...  architect  Female\n",
       "4  He received his Bachelor of Arts in Architectu...  architect    Male"
      ]
     },
     "execution_count": 17,
     "metadata": {},
     "output_type": "execute_result"
    }
   ],
   "source": [
    "df1 = pd.read_csv('architect_samples.csv')\n",
    "df1.head()"
   ]
  },
  {
   "cell_type": "code",
   "execution_count": null,
   "metadata": {},
   "outputs": [],
   "source": []
  }
 ],
 "metadata": {
  "kernelspec": {
   "display_name": "Env_python3_10",
   "language": "python",
   "name": "python3"
  },
  "language_info": {
   "codemirror_mode": {
    "name": "ipython",
    "version": 3
   },
   "file_extension": ".py",
   "mimetype": "text/x-python",
   "name": "python",
   "nbconvert_exporter": "python",
   "pygments_lexer": "ipython3",
   "version": "3.10.15"
  }
 },
 "nbformat": 4,
 "nbformat_minor": 2
}
