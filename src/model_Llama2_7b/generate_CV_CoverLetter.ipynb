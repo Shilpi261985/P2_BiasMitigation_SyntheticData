{
 "cells": [
  {
   "cell_type": "code",
   "execution_count": 1,
   "metadata": {},
   "outputs": [
    {
     "name": "stderr",
     "output_type": "stream",
     "text": [
      "/home/shilpi/Documents/sem3/P2_BiasMitigation_DataAugmentation/.venv/lib/python3.12/site-packages/tqdm/auto.py:21: TqdmWarning: IProgress not found. Please update jupyter and ipywidgets. See https://ipywidgets.readthedocs.io/en/stable/user_install.html\n",
      "  from .autonotebook import tqdm as notebook_tqdm\n"
     ]
    }
   ],
   "source": [
    "\n",
    "import pandas as pd\n",
    "import torch\n",
    "from transformers import pipeline, AutoModelForCausalLM, AutoTokenizer"
   ]
  },
  {
   "cell_type": "code",
   "execution_count": 2,
   "metadata": {},
   "outputs": [
    {
     "name": "stderr",
     "output_type": "stream",
     "text": [
      "Loading checkpoint shards: 100%|██████████| 2/2 [00:02<00:00,  1.42s/it]\n"
     ]
    }
   ],
   "source": [
    "# Load the LLaMA model\n",
    "model_id = \"meta-llama/Llama-2-7b-chat-hf\"\n",
    "tokenizer = AutoTokenizer.from_pretrained(model_id)\n",
    "model = AutoModelForCausalLM.from_pretrained(model_id, device_map='auto', torch_dtype=torch.float16)"
   ]
  },
  {
   "cell_type": "code",
   "execution_count": 3,
   "metadata": {},
   "outputs": [
    {
     "name": "stderr",
     "output_type": "stream",
     "text": [
      "Device set to use cuda:0\n"
     ]
    }
   ],
   "source": [
    "# Load the LLaMA model with memory optimization\n",
    "pipe = pipeline(\n",
    "    \"text-generation\",\n",
    "    model=model,  \n",
    "    tokenizer = tokenizer,\n",
    "    torch_dtype=torch.float16, # Use FP16 to reduce memory\n",
    "     device_map=\"auto\"  # Automatically allocate to available GPU/CPU\n",
    ")"
   ]
  },
  {
   "cell_type": "code",
   "execution_count": 5,
   "metadata": {},
   "outputs": [],
   "source": [
    "# Load bios\n",
    "bios_df = pd.read_csv(\"accountant_samples.csv\")\n"
   ]
  },
  {
   "cell_type": "code",
   "execution_count": 17,
   "metadata": {},
   "outputs": [],
   "source": [
    "import os\n",
    "\n",
    "# Load job ads from individual files\n",
    "job_ads_dir = \"job_ads/jobADs_accountant\"\n",
    "job_ads_files = sorted([f for f in os.listdir(job_ads_dir) if f.endswith(\".txt\")])\n",
    "\n",
    "job_ads = []\n",
    "for filename in job_ads_files:\n",
    "    with open(os.path.join(job_ads_dir, filename), \"r\", encoding=\"utf-8\") as f:\n",
    "        job_ads.append(f.read().strip())\n"
   ]
  },
  {
   "cell_type": "code",
   "execution_count": 23,
   "metadata": {},
   "outputs": [],
   "source": [
    "# --- Prompt Templates ---\n",
    "with open(\"prompt_CV.txt\", \"r\", encoding=\"utf-8\") as f:\n",
    "    cv_template = f.read()\n",
    "\n",
    "with open(\"prompt_CoverLetter.txt\", \"r\", encoding=\"utf-8\") as f:\n",
    "    cover_letter_template = f.read()"
   ]
  },
  {
   "cell_type": "code",
   "execution_count": 7,
   "metadata": {},
   "outputs": [],
   "source": [
    "def format_prompt(template, bio, job_ad):\n",
    "    return f\"<s>[INST] {template.format(bio=bio, job_ad=job_ad)} [/INST]\""
   ]
  },
  {
   "cell_type": "code",
   "execution_count": 19,
   "metadata": {},
   "outputs": [],
   "source": [
    "# Create output directory\n",
    "os.makedirs(\"generated_CV_CoverLetter\", exist_ok=True)"
   ]
  },
  {
   "cell_type": "code",
   "execution_count": null,
   "metadata": {},
   "outputs": [],
   "source": [
    "# --- Generate Outputs ---\n",
    "\n",
    "for i, (index, row) in enumerate(bios_df.iterrows()):\n",
    "    bio = row[\"hard_text\"] \n",
    "    profession = row.get(\"profession\", \"N/A\")\n",
    "    gender = row.get(\"gender\", \"N/A\")\n",
    "    job_ad = job_ads[i]  # 1-to-1 mapping\n",
    "\n",
    "    \n",
    "  \n",
    "    cv_prompt = format_prompt(cv_template, bio, job_ad)\n",
    "    cover_prompt = format_prompt(cover_letter_template, bio, job_ad)\n",
    "        \n",
    "    cv_response = pipe(cv_prompt, max_new_tokens=512, temperature=0.0, do_sample=False)[0][\"generated_text\"]\n",
    "    cover_response = pipe(cover_prompt, max_new_tokens=512, temperature=0.0, do_sample=False)[0][\"generated_text\"]\n",
    "    \n",
    "        \n",
    "    print(f\"\\n--- CV and Cover Letter for Bio #{i+1}, Job Ad #{i+1} ---\")\n",
    "    print(f\"\\nCV:\\n{cv_response}\\n\")\n",
    "    print(f\"Cover Letter:\\n{cover_response}\\n\")\n",
    "\n",
    "# Save each CV and Cover Letter in separate files\n",
    "    with open(f\"generated_CV_CoverLetter/cv_{i+1}.txt\", \"w\", encoding=\"utf-8\") as f:\n",
    "        f.write(cv_response)\n",
    "\n",
    "    with open(f\"generated_CV_CoverLetter/cover_letter_{i+1}.txt\", \"w\", encoding=\"utf-8\") as f:\n",
    "        f.write(cover_response)\n",
    "\n",
    "    print(f\"Saved CV and Cover Letter for Bio #{i+1}\")"
   ]
  }
 ],
 "metadata": {
  "kernelspec": {
   "display_name": ".venv",
   "language": "python",
   "name": "python3"
  },
  "language_info": {
   "codemirror_mode": {
    "name": "ipython",
    "version": 3
   },
   "file_extension": ".py",
   "mimetype": "text/x-python",
   "name": "python",
   "nbconvert_exporter": "python",
   "pygments_lexer": "ipython3",
   "version": "3.12.3"
  }
 },
 "nbformat": 4,
 "nbformat_minor": 2
}
