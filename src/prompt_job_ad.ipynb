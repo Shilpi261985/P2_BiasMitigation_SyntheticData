{
 "cells": [
  {
   "cell_type": "markdown",
   "metadata": {},
   "source": [
    " Generating job ads for each occupation in the BiasBios dataset using separate CSVs and prompt files"
   ]
  },
  {
   "cell_type": "code",
   "execution_count": null,
   "metadata": {},
   "outputs": [
    {
     "name": "stdout",
     "output_type": "stream",
     "text": [
      "Prompts generated and saved successfully.\n"
     ]
    },
    {
     "ename": "",
     "evalue": "",
     "output_type": "error",
     "traceback": [
      "\u001b[1;31mThe Kernel crashed while executing code in the current cell or a previous cell. \n",
      "\u001b[1;31mPlease review the code in the cell(s) to identify a possible cause of the failure. \n",
      "\u001b[1;31mClick <a href='https://aka.ms/vscodeJupyterKernelCrash'>here</a> for more info. \n",
      "\u001b[1;31mView Jupyter <a href='command:jupyter.viewOutput'>log</a> for further details."
     ]
    }
   ],
   "source": [
    "import os\n",
    "import pandas as pd\n",
    "\n",
    "# Define directories\n",
    "csv_dir = \"C:\\Shilpi\\BFH\\MSE_Courses\\Semester3\\P2_BiasMitigation\\P2_Code\\Sample_csvs\"  # Folder containing profession CSVs\n",
    "prompt_dir = \"C:\\Shilpi\\BFH\\MSE_Courses\\Semester3\\P2_BiasMitigation\\P2_Code\\Generated_prompts\"  # Folder to save generated prompts\n",
    "\n",
    "os.makedirs(prompt_dir, exist_ok=True)\n",
    "\n",
    "# Iterate over each CSV file\n",
    "for file in os.listdir(csv_dir):\n",
    "    if file.endswith(\".csv\"):\n",
    "        profession = file.replace(\".csv\", \"\").replace(\"_\", \" \").title()\n",
    "        \n",
    "        # Create a structured prompt\n",
    "        prompt = f\"\"\"\n",
    "        Write a professional and inclusive job advertisement for a {profession}.\n",
    "        The job ad should include:\n",
    "        - A short company introduction\n",
    "        - Job responsibilities\n",
    "        - Required qualifications\n",
    "        - Preferred skills\n",
    "        - Equal opportunity statement\n",
    "        \"\"\"\n",
    "\n",
    "        # Save the prompt in a text file\n",
    "        prompt_file = os.path.join(prompt_dir, f\"{profession}.txt\")\n",
    "        with open(prompt_file, \"w\", encoding=\"utf-8\") as f:\n",
    "            f.write(prompt)\n",
    "\n",
    "print(\"Prompts generated and saved successfully.\")\n"
   ]
  }
 ],
 "metadata": {
  "kernelspec": {
   "display_name": "Env_python3_10",
   "language": "python",
   "name": "python3"
  },
  "language_info": {
   "codemirror_mode": {
    "name": "ipython",
    "version": 3
   },
   "file_extension": ".py",
   "mimetype": "text/x-python",
   "name": "python",
   "nbconvert_exporter": "python",
   "pygments_lexer": "ipython3",
   "version": "undefined.undefined.undefined"
  }
 },
 "nbformat": 4,
 "nbformat_minor": 2
}
