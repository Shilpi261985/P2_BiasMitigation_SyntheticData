{
 "cells": [
  {
   "cell_type": "markdown",
   "metadata": {},
   "source": [
    " Generating job ads for each occupation in the BiasBios dataset using separate CSVs and prompt files"
   ]
  },
  {
   "cell_type": "code",
   "execution_count": 1,
   "metadata": {},
   "outputs": [
    {
     "name": "stdout",
     "output_type": "stream",
     "text": [
      "Prompts generated and saved successfully.\n"
     ]
    }
   ],
   "source": [
    "import os\n",
    "import pandas as pd\n",
    "\n",
    "# Define directories\n",
    "csv_dir = \"C:\\Shilpi\\BFH\\MSE_Courses\\Semester3\\P2_BiasMitigation\\P2_Code\\Sample_csvs\"  # Folder containing profession CSVs\n",
    "prompt_dir = \"C:\\Shilpi\\BFH\\MSE_Courses\\Semester3\\P2_BiasMitigation\\P2_Code\\Generated_prompts\"  # Folder to save generated prompts\n",
    "\n",
    "os.makedirs(prompt_dir, exist_ok=True)\n",
    "\n",
    "# Iterate over each CSV file\n",
    "for file in os.listdir(csv_dir):\n",
    "    if file.endswith(\".csv\"):\n",
    "        profession = file.replace(\".csv\", \"\").replace(\"_\", \" \").title()\n",
    "        \n",
    "        # Create a structured prompt\n",
    "        prompt = f\"\"\"\n",
    "        **{profession} - We're Hiring!**\n",
    "    \n",
    "        **Company Overview:**  \n",
    "        We are a leading company in the industry, committed to innovation, excellence, and fostering a diverse work environment.  \n",
    "\n",
    "        **Job Description:**  \n",
    "        As a {profession}, you will be responsible for various tasks, including problem-solving, teamwork, and contributing to our company's success. Your role will involve industry-specific responsibilities that align with your expertise.  \n",
    "\n",
    "        **Required Skills & Qualifications:**  \n",
    "        - Strong knowledge in the {profession} field.  \n",
    "        - Relevant degree or certification.  \n",
    "        - Excellent problem-solving and communication skills.  \n",
    "\n",
    "        **Benefits & Perks:**  \n",
    "        - Competitive salary  \n",
    "        - Flexible working hours  \n",
    "        - Career growth opportunities  \n",
    "\n",
    "        **How to Apply:**  \n",
    "        Interested candidates can apply by sending their resume to hr@example.com. \n",
    "        \"\"\"\n",
    "\n",
    "        # Save the prompt in a text file\n",
    "        prompt_file = os.path.join(prompt_dir, f\"{profession}.txt\")\n",
    "        with open(prompt_file, \"w\", encoding=\"utf-8\") as f:\n",
    "            f.write(prompt)\n",
    "\n",
    "print(\"Prompts generated and saved successfully.\")\n"
   ]
  },
  {
   "cell_type": "code",
   "execution_count": null,
   "metadata": {},
   "outputs": [],
   "source": []
  }
 ],
 "metadata": {
  "kernelspec": {
   "display_name": "Env_python3_10",
   "language": "python",
   "name": "python3"
  },
  "language_info": {
   "codemirror_mode": {
    "name": "ipython",
    "version": 3
   },
   "file_extension": ".py",
   "mimetype": "text/x-python",
   "name": "python",
   "nbconvert_exporter": "python",
   "pygments_lexer": "ipython3",
   "version": "3.10.15"
  }
 },
 "nbformat": 4,
 "nbformat_minor": 2
}
