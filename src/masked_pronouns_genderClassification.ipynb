{
 "cells": [
  {
   "cell_type": "code",
   "execution_count": null,
   "metadata": {},
   "outputs": [],
   "source": [
    "pip install evaluate"
   ]
  },
  {
   "cell_type": "code",
   "execution_count": 2,
   "metadata": {},
   "outputs": [
    {
     "name": "stderr",
     "output_type": "stream",
     "text": [
      "c:\\Users\\itssh\\anaconda\\envs\\Env_python3_10\\lib\\site-packages\\tqdm\\auto.py:21: TqdmWarning: IProgress not found. Please update jupyter and ipywidgets. See https://ipywidgets.readthedocs.io/en/stable/user_install.html\n",
      "  from .autonotebook import tqdm as notebook_tqdm\n"
     ]
    }
   ],
   "source": [
    "import spacy\n",
    "import re\n",
    "import pandas as pd\n",
    "import numpy as np\n",
    "\n",
    "import transformers\n",
    "from sklearn.model_selection import train_test_split\n",
    "\n",
    "import evaluate\n",
    "from transformers import Trainer, TrainingArguments"
   ]
  },
  {
   "cell_type": "code",
   "execution_count": 4,
   "metadata": {},
   "outputs": [],
   "source": [
    "#Define Pronoun Mapping\n",
    "GENDERED_PRONOUNS_LIST = {\n",
    "    \"male\": [\n",
    "        (\"he\", \"they\"),\n",
    "        (\"him\", \"them\"),\n",
    "        (\"his\", \"their\"),\n",
    "        (\"himself\", \"themselves\"),\n",
    "        (\"mr\", \"they\"),\n",
    "        (\"men\", \"they\")\n",
    "    ],\n",
    "    \"female\": [\n",
    "        (\"she\", \"they\"),\n",
    "        (\"her\", \"them\"),\n",
    "        (\"herself\", \"themselves\"),\n",
    "        (\"women\", \"they\"),\n",
    "        (\"ms\", \"they\")\n",
    "    ]\n",
    "}"
   ]
  },
  {
   "cell_type": "code",
   "execution_count": 5,
   "metadata": {},
   "outputs": [],
   "source": [
    "# Combine the two lists into a single mapping (if you want to mask both for neutrality)\n",
    "GENDERED_PRONOUNS = dict(GENDERED_PRONOUNS_LIST['male'] + GENDERED_PRONOUNS_LIST['female'])"
   ]
  },
  {
   "cell_type": "code",
   "execution_count": 6,
   "metadata": {},
   "outputs": [],
   "source": [
    "# Load SpaCy model\n",
    "nlp = spacy.load(\"en_core_web_sm\")"
   ]
  },
  {
   "cell_type": "code",
   "execution_count": 7,
   "metadata": {},
   "outputs": [],
   "source": [
    "# Define a masking function\n",
    "def mask_gendered_pronouns(text):\n",
    "    doc = nlp(text)              # text assumed to be already lowercase\n",
    "    masked_text = []\n",
    "\n",
    "    for token in doc:\n",
    "        token_lower = token.text\n",
    "        if token_lower in GENDERED_PRONOUNS:\n",
    "            masked_text.append(GENDERED_PRONOUNS[token_lower])\n",
    "        else:\n",
    "            masked_text.append(token_lower)\n",
    "    \n",
    "    return \" \".join(masked_text)"
   ]
  },
  {
   "cell_type": "code",
   "execution_count": 8,
   "metadata": {},
   "outputs": [
    {
     "data": {
      "text/html": [
       "<div>\n",
       "<style scoped>\n",
       "    .dataframe tbody tr th:only-of-type {\n",
       "        vertical-align: middle;\n",
       "    }\n",
       "\n",
       "    .dataframe tbody tr th {\n",
       "        vertical-align: top;\n",
       "    }\n",
       "\n",
       "    .dataframe thead th {\n",
       "        text-align: right;\n",
       "    }\n",
       "</style>\n",
       "<table border=\"1\" class=\"dataframe\">\n",
       "  <thead>\n",
       "    <tr style=\"text-align: right;\">\n",
       "      <th></th>\n",
       "      <th>text</th>\n",
       "      <th>labels</th>\n",
       "    </tr>\n",
       "  </thead>\n",
       "  <tbody>\n",
       "    <tr>\n",
       "      <th>0</th>\n",
       "      <td>he has been with the firm for seventeen years....</td>\n",
       "      <td>1</td>\n",
       "    </tr>\n",
       "    <tr>\n",
       "      <th>1</th>\n",
       "      <td>a conviction that organisations could do consi...</td>\n",
       "      <td>1</td>\n",
       "    </tr>\n",
       "    <tr>\n",
       "      <th>2</th>\n",
       "      <td>l. john walpole has been issued a tennessee li...</td>\n",
       "      <td>0</td>\n",
       "    </tr>\n",
       "    <tr>\n",
       "      <th>3</th>\n",
       "      <td>most recently, he was deputy group cfo at inte...</td>\n",
       "      <td>1</td>\n",
       "    </tr>\n",
       "    <tr>\n",
       "      <th>4</th>\n",
       "      <td>he was employed with the very well-known compa...</td>\n",
       "      <td>1</td>\n",
       "    </tr>\n",
       "  </tbody>\n",
       "</table>\n",
       "</div>"
      ],
      "text/plain": [
       "                                                text  labels\n",
       "0  he has been with the firm for seventeen years....       1\n",
       "1  a conviction that organisations could do consi...       1\n",
       "2  l. john walpole has been issued a tennessee li...       0\n",
       "3  most recently, he was deputy group cfo at inte...       1\n",
       "4  he was employed with the very well-known compa...       1"
      ]
     },
     "execution_count": 8,
     "metadata": {},
     "output_type": "execute_result"
    }
   ],
   "source": [
    "# Load Bios dataset\n",
    "\n",
    "df = pd.read_csv('df_accountant_lower.csv')\n",
    "df.head()\n"
   ]
  },
  {
   "cell_type": "code",
   "execution_count": 9,
   "metadata": {},
   "outputs": [],
   "source": [
    "# Apply the masking function\n",
    "df[\"masked_text\"] = df[\"text\"].apply(mask_gendered_pronouns)\n"
   ]
  },
  {
   "cell_type": "code",
   "execution_count": 10,
   "metadata": {},
   "outputs": [
    {
     "data": {
      "text/html": [
       "<div>\n",
       "<style scoped>\n",
       "    .dataframe tbody tr th:only-of-type {\n",
       "        vertical-align: middle;\n",
       "    }\n",
       "\n",
       "    .dataframe tbody tr th {\n",
       "        vertical-align: top;\n",
       "    }\n",
       "\n",
       "    .dataframe thead th {\n",
       "        text-align: right;\n",
       "    }\n",
       "</style>\n",
       "<table border=\"1\" class=\"dataframe\">\n",
       "  <thead>\n",
       "    <tr style=\"text-align: right;\">\n",
       "      <th></th>\n",
       "      <th>text</th>\n",
       "      <th>masked_text</th>\n",
       "      <th>labels</th>\n",
       "    </tr>\n",
       "  </thead>\n",
       "  <tbody>\n",
       "    <tr>\n",
       "      <th>0</th>\n",
       "      <td>he has been with the firm for seventeen years....</td>\n",
       "      <td>they has been with the firm for seventeen year...</td>\n",
       "      <td>1</td>\n",
       "    </tr>\n",
       "    <tr>\n",
       "      <th>1</th>\n",
       "      <td>a conviction that organisations could do consi...</td>\n",
       "      <td>a conviction that organisations could do consi...</td>\n",
       "      <td>1</td>\n",
       "    </tr>\n",
       "    <tr>\n",
       "      <th>2</th>\n",
       "      <td>l. john walpole has been issued a tennessee li...</td>\n",
       "      <td>l. john walpole has been issued a tennessee li...</td>\n",
       "      <td>0</td>\n",
       "    </tr>\n",
       "    <tr>\n",
       "      <th>3</th>\n",
       "      <td>most recently, he was deputy group cfo at inte...</td>\n",
       "      <td>most recently , they was deputy group cfo at i...</td>\n",
       "      <td>1</td>\n",
       "    </tr>\n",
       "    <tr>\n",
       "      <th>4</th>\n",
       "      <td>he was employed with the very well-known compa...</td>\n",
       "      <td>they was employed with the very well - known c...</td>\n",
       "      <td>1</td>\n",
       "    </tr>\n",
       "  </tbody>\n",
       "</table>\n",
       "</div>"
      ],
      "text/plain": [
       "                                                text  \\\n",
       "0  he has been with the firm for seventeen years....   \n",
       "1  a conviction that organisations could do consi...   \n",
       "2  l. john walpole has been issued a tennessee li...   \n",
       "3  most recently, he was deputy group cfo at inte...   \n",
       "4  he was employed with the very well-known compa...   \n",
       "\n",
       "                                         masked_text  labels  \n",
       "0  they has been with the firm for seventeen year...       1  \n",
       "1  a conviction that organisations could do consi...       1  \n",
       "2  l. john walpole has been issued a tennessee li...       0  \n",
       "3  most recently , they was deputy group cfo at i...       1  \n",
       "4  they was employed with the very well - known c...       1  "
      ]
     },
     "execution_count": 10,
     "metadata": {},
     "output_type": "execute_result"
    }
   ],
   "source": [
    "# Preview results\n",
    "df[['text', 'masked_text', 'labels']].head()"
   ]
  },
  {
   "cell_type": "code",
   "execution_count": 11,
   "metadata": {},
   "outputs": [
    {
     "name": "stderr",
     "output_type": "stream",
     "text": [
      "Some weights of BertForSequenceClassification were not initialized from the model checkpoint at bert-base-uncased and are newly initialized: ['classifier.bias', 'classifier.weight']\n",
      "You should probably TRAIN this model on a down-stream task to be able to use it for predictions and inference.\n"
     ]
    }
   ],
   "source": [
    "# Download bert-base-uncased model for binary classification\n",
    "model = transformers.AutoModelForSequenceClassification.from_pretrained(\"bert-base-uncased\", num_labels=2)"
   ]
  },
  {
   "cell_type": "code",
   "execution_count": 12,
   "metadata": {},
   "outputs": [],
   "source": [
    "# Prepare training and test data with 80-20 split\n",
    "\n",
    "\n",
    "train_df, test_df = train_test_split(df, test_size=0.2, random_state=42)"
   ]
  },
  {
   "cell_type": "code",
   "execution_count": 13,
   "metadata": {},
   "outputs": [
    {
     "name": "stderr",
     "output_type": "stream",
     "text": [
      "Map: 100%|██████████| 800/800 [00:00<00:00, 2394.55 examples/s]\n",
      "Map: 100%|██████████| 200/200 [00:00<00:00, 2389.40 examples/s]\n"
     ]
    }
   ],
   "source": [
    "# Prepare text data for training using bert tokenizer\n",
    "from transformers import AutoTokenizer\n",
    "import datasets\n",
    "\n",
    "train_dataset = datasets.Dataset.from_pandas(train_df)\n",
    "test_dataset = datasets.Dataset.from_pandas(test_df)\n",
    "\n",
    "tokenizer = AutoTokenizer.from_pretrained(\"bert-base-uncased\")\n",
    "\n",
    "def encode(examples):\n",
    "    return tokenizer(examples['text'], truncation = True, padding='max_length')\n",
    "\n",
    "train_dataset = train_dataset.map(encode, batched=True)\n",
    "test_dataset = test_dataset.map(encode, batched=True)\n",
    "\n",
    "\n",
    "dataset = datasets.DatasetDict({\"train\": train_dataset, \"test\": test_dataset})"
   ]
  },
  {
   "cell_type": "code",
   "execution_count": 14,
   "metadata": {},
   "outputs": [],
   "source": [
    "\n",
    "\n",
    "metric = evaluate.load(\"accuracy\")\n",
    "\n",
    "def compute_metrics(eval_pred):\n",
    "    logits, labels = eval_pred\n",
    "    # convert the logits to their predicted class\n",
    "    predictions = np.argmax(logits, axis=-1)\n",
    "    return metric.compute(predictions=predictions, references=labels)"
   ]
  },
  {
   "cell_type": "code",
   "execution_count": null,
   "metadata": {},
   "outputs": [],
   "source": [
    "pip install transformers[torch]"
   ]
  },
  {
   "cell_type": "code",
   "execution_count": 16,
   "metadata": {},
   "outputs": [],
   "source": [
    "import os\n",
    "os.environ['WANDB_DISABLED'] = 'true'"
   ]
  },
  {
   "cell_type": "code",
   "execution_count": null,
   "metadata": {},
   "outputs": [
    {
     "name": "stderr",
     "output_type": "stream",
     "text": [
      "Using the `WANDB_DISABLED` environment variable is deprecated and will be removed in v5. Use the --report_to flag to control the integrations used for logging result (for instance --report_to none).\n",
      " 61%|██████▏   | 184/300 [40:20<27:09, 14.05s/it] "
     ]
    }
   ],
   "source": [
    "# Fine-tune model for classification\n",
    "\n",
    "\n",
    "training_args = TrainingArguments(\n",
    "    output_dir=\"./results\",\n",
    "    num_train_epochs=3,\n",
    "    per_device_train_batch_size= 8\n",
    ")\n",
    "\n",
    "# train model\n",
    "trainer = Trainer(\n",
    "    model=model,\n",
    "    args=training_args,\n",
    "    train_dataset=dataset['train'],\n",
    "    eval_dataset=dataset['test'],\n",
    "    compute_metrics=compute_metrics\n",
    ")\n",
    "\n",
    "trainer.train()\n",
    "\n",
    "model.eval()"
   ]
  },
  {
   "cell_type": "code",
   "execution_count": null,
   "metadata": {},
   "outputs": [],
   "source": [
    "# Empty GPU cache to free up space\n",
    "import torch\n",
    "import gc\n",
    "torch.cuda.empty_cache()\n",
    "torch.cuda.memory_allocated()\n",
    "gc.collect()"
   ]
  },
  {
   "cell_type": "code",
   "execution_count": null,
   "metadata": {},
   "outputs": [],
   "source": [
    "# Compute accuracy, recall, precision and F1 of trained model for sci-kit learn\n",
    "from sklearn.metrics import accuracy_score, recall_score, precision_score, f1_score\n",
    "\n",
    "# Compute for training data\n",
    "y_pred = trainer.predict(dataset['train'])\n",
    "y_pred = np.argmax(y_pred.predictions, axis=-1)\n",
    "y_true = dataset['train']['labels']\n",
    "print('Training data:')\n",
    "print('Accuracy:', accuracy_score(y_true, y_pred))\n",
    "print('Recall:', recall_score(y_true, y_pred))\n",
    "print('Precision:', precision_score(y_true, y_pred))\n",
    "print('F1:', f1_score(y_true, y_pred))\n",
    "\n",
    "# Compute for test data\n",
    "y_pred = trainer.predict(dataset['test'])\n",
    "y_pred = np.argmax(y_pred.predictions, axis=-1)\n",
    "y_true = dataset['test']['labels']\n",
    "print('Test data:')\n",
    "print('Accuracy:', accuracy_score(y_true, y_pred))\n",
    "print('Recall:', recall_score(y_true, y_pred))\n",
    "print('Precision:', precision_score(y_true, y_pred))\n",
    "print('F1:', f1_score(y_true, y_pred))\n"
   ]
  },
  {
   "cell_type": "code",
   "execution_count": null,
   "metadata": {},
   "outputs": [],
   "source": [
    "# View confusion matrix for test data\n",
    "from sklearn.metrics import confusion_matrix\n",
    "import seaborn as sns\n",
    "import matplotlib.pyplot as plt\n",
    "\n",
    "y_pred = trainer.predict(dataset['test'])\n",
    "y_pred = np.argmax(y_pred.predictions, axis=-1)\n",
    "y_true = dataset['test']['labels']\n",
    "cm = confusion_matrix(y_true, y_pred)\n",
    "sns.heatmap(cm, annot=True, fmt='d')\n",
    "# label plot\n",
    "plt.xlabel('Predicted')\n",
    "plt.ylabel('True')\n",
    "\n",
    "plt.show()"
   ]
  },
  {
   "cell_type": "code",
   "execution_count": null,
   "metadata": {},
   "outputs": [],
   "source": [
    "import torch\n",
    "from torch import nn\n",
    "\n",
    "predictions = torch.from_numpy(trainer.predict(dataset['test']).predictions)\n",
    "pred_probs = nn.functional.softmax(predictions, dim=-1).detach().numpy()"
   ]
  },
  {
   "cell_type": "code",
   "execution_count": null,
   "metadata": {},
   "outputs": [],
   "source": [
    "### Sort test samples according to male probability\n",
    "probs = pred_probs[:, 1]\n",
    "sorted_indices = np.argsort(probs)\n",
    "\n",
    "# Reverse the sortation\n",
    "sorted_indices = sorted_indices[::-1]\n",
    "\n",
    "test_sorted = dataset['test'].select(sorted_indices)\n",
    "\n",
    "df_sorted_male = pd.DataFrame({'text': test_sorted['text'], 'labels': test_sorted['labels'], 'prob': probs[sorted_indices]})\n",
    "df_sorted_male.head()"
   ]
  },
  {
   "cell_type": "markdown",
   "metadata": {},
   "source": [
    "LIME"
   ]
  },
  {
   "cell_type": "code",
   "execution_count": null,
   "metadata": {},
   "outputs": [],
   "source": []
  }
 ],
 "metadata": {
  "kernelspec": {
   "display_name": "Env_python3_10",
   "language": "python",
   "name": "python3"
  },
  "language_info": {
   "codemirror_mode": {
    "name": "ipython",
    "version": 3
   },
   "file_extension": ".py",
   "mimetype": "text/x-python",
   "name": "python",
   "nbconvert_exporter": "python",
   "pygments_lexer": "ipython3",
   "version": "3.10.15"
  }
 },
 "nbformat": 4,
 "nbformat_minor": 2
}
