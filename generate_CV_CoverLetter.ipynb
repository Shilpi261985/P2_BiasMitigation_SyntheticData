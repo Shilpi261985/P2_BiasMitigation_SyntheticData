{
 "cells": [
  {
   "cell_type": "code",
   "execution_count": 1,
   "metadata": {
    "id": "KFcg9ZoYs8tO"
   },
   "outputs": [],
   "source": [
    "import pandas as pd\n",
    "import os\n",
    "from transformers import pipeline"
   ]
  },
  {
   "cell_type": "code",
   "execution_count": 15,
   "metadata": {
    "id": "Fq6I5c2Es8tP"
   },
   "outputs": [],
   "source": [
    "# --- Load Inputs ---\n",
    "with open(\"prompt_CV.txt\", \"r\", encoding=\"utf-8\") as f:\n",
    "    cv_template_raw = f.read()\n",
    "\n",
    "with open(\"prompt_CoverLetter.txt\", \"r\", encoding=\"utf-8\") as f:\n",
    "    cover_letter_template_raw = f.read()\n",
    "\n",
    "with open(\"accountant_jobAd_llama3.txt\", \"r\", encoding=\"utf-8\") as f:\n",
    "    job_ad = f.read().strip()\n",
    "\n"
   ]
  },
  {
   "cell_type": "code",
   "execution_count": 3,
   "metadata": {
    "colab": {
     "base_uri": "https://localhost:8080/",
     "height": 206
    },
    "id": "P_yD1xvLs8tP",
    "outputId": "be6489f5-0fbd-43e9-e186-4e1cdffa73b7"
   },
   "outputs": [
    {
     "data": {
      "application/vnd.google.colaboratory.intrinsic+json": {
       "summary": "{\n  \"name\": \"bios_df\",\n  \"rows\": 10,\n  \"fields\": [\n    {\n      \"column\": \"hard_text\",\n      \"properties\": {\n        \"dtype\": \"string\",\n        \"num_unique_values\": 10,\n        \"samples\": [\n          \"She graduated with a Bachelor of Science and a Bachelor of Arts in Accounting from Richard Stockton College. She enjoys spending time with her family, baking and basketball.\",\n          \"She has served as General Manager in companies in the industrial and real estate sector and has experience in companies that represent foreign homes in Costa Rica. She also has extensive experience in tenders contracted through the Law of Administrative Contracting.\",\n          \"He is also a student at Florida Atlantic University completing his Master's Degree in Accounting. He is currently pursuing his Certified Public Accountant License in 2017. Bahaa recently received his 2-15 Resident Health & Life (Including Annuities & Variable Contracts) Agent License. He is also a notary public.\"\n        ],\n        \"semantic_type\": \"\",\n        \"description\": \"\"\n      }\n    },\n    {\n      \"column\": \"profession\",\n      \"properties\": {\n        \"dtype\": \"category\",\n        \"num_unique_values\": 1,\n        \"samples\": [\n          \"accountant\"\n        ],\n        \"semantic_type\": \"\",\n        \"description\": \"\"\n      }\n    },\n    {\n      \"column\": \"gender\",\n      \"properties\": {\n        \"dtype\": \"category\",\n        \"num_unique_values\": 2,\n        \"samples\": [\n          \"Male\"\n        ],\n        \"semantic_type\": \"\",\n        \"description\": \"\"\n      }\n    }\n  ]\n}",
       "type": "dataframe",
       "variable_name": "bios_df"
      },
      "text/html": [
       "\n",
       "  <div id=\"df-ec223ecb-2be1-4627-8554-a9f8fb892d86\" class=\"colab-df-container\">\n",
       "    <div>\n",
       "<style scoped>\n",
       "    .dataframe tbody tr th:only-of-type {\n",
       "        vertical-align: middle;\n",
       "    }\n",
       "\n",
       "    .dataframe tbody tr th {\n",
       "        vertical-align: top;\n",
       "    }\n",
       "\n",
       "    .dataframe thead th {\n",
       "        text-align: right;\n",
       "    }\n",
       "</style>\n",
       "<table border=\"1\" class=\"dataframe\">\n",
       "  <thead>\n",
       "    <tr style=\"text-align: right;\">\n",
       "      <th></th>\n",
       "      <th>hard_text</th>\n",
       "      <th>profession</th>\n",
       "      <th>gender</th>\n",
       "    </tr>\n",
       "  </thead>\n",
       "  <tbody>\n",
       "    <tr>\n",
       "      <th>0</th>\n",
       "      <td>She was raised up in a remote rural area where...</td>\n",
       "      <td>accountant</td>\n",
       "      <td>Female</td>\n",
       "    </tr>\n",
       "    <tr>\n",
       "      <th>1</th>\n",
       "      <td>She has served as General Manager in companies...</td>\n",
       "      <td>accountant</td>\n",
       "      <td>Female</td>\n",
       "    </tr>\n",
       "    <tr>\n",
       "      <th>2</th>\n",
       "      <td>She worked for top consulting firms such as Pr...</td>\n",
       "      <td>accountant</td>\n",
       "      <td>Female</td>\n",
       "    </tr>\n",
       "    <tr>\n",
       "      <th>3</th>\n",
       "      <td>In addition, Jaime holds a bachelor&amp;apos;s deg...</td>\n",
       "      <td>accountant</td>\n",
       "      <td>Female</td>\n",
       "    </tr>\n",
       "    <tr>\n",
       "      <th>4</th>\n",
       "      <td>He recently was the treasurer of Rebecca’s Ten...</td>\n",
       "      <td>accountant</td>\n",
       "      <td>Male</td>\n",
       "    </tr>\n",
       "  </tbody>\n",
       "</table>\n",
       "</div>\n",
       "    <div class=\"colab-df-buttons\">\n",
       "\n",
       "  <div class=\"colab-df-container\">\n",
       "    <button class=\"colab-df-convert\" onclick=\"convertToInteractive('df-ec223ecb-2be1-4627-8554-a9f8fb892d86')\"\n",
       "            title=\"Convert this dataframe to an interactive table.\"\n",
       "            style=\"display:none;\">\n",
       "\n",
       "  <svg xmlns=\"http://www.w3.org/2000/svg\" height=\"24px\" viewBox=\"0 -960 960 960\">\n",
       "    <path d=\"M120-120v-720h720v720H120Zm60-500h600v-160H180v160Zm220 220h160v-160H400v160Zm0 220h160v-160H400v160ZM180-400h160v-160H180v160Zm440 0h160v-160H620v160ZM180-180h160v-160H180v160Zm440 0h160v-160H620v160Z\"/>\n",
       "  </svg>\n",
       "    </button>\n",
       "\n",
       "  <style>\n",
       "    .colab-df-container {\n",
       "      display:flex;\n",
       "      gap: 12px;\n",
       "    }\n",
       "\n",
       "    .colab-df-convert {\n",
       "      background-color: #E8F0FE;\n",
       "      border: none;\n",
       "      border-radius: 50%;\n",
       "      cursor: pointer;\n",
       "      display: none;\n",
       "      fill: #1967D2;\n",
       "      height: 32px;\n",
       "      padding: 0 0 0 0;\n",
       "      width: 32px;\n",
       "    }\n",
       "\n",
       "    .colab-df-convert:hover {\n",
       "      background-color: #E2EBFA;\n",
       "      box-shadow: 0px 1px 2px rgba(60, 64, 67, 0.3), 0px 1px 3px 1px rgba(60, 64, 67, 0.15);\n",
       "      fill: #174EA6;\n",
       "    }\n",
       "\n",
       "    .colab-df-buttons div {\n",
       "      margin-bottom: 4px;\n",
       "    }\n",
       "\n",
       "    [theme=dark] .colab-df-convert {\n",
       "      background-color: #3B4455;\n",
       "      fill: #D2E3FC;\n",
       "    }\n",
       "\n",
       "    [theme=dark] .colab-df-convert:hover {\n",
       "      background-color: #434B5C;\n",
       "      box-shadow: 0px 1px 3px 1px rgba(0, 0, 0, 0.15);\n",
       "      filter: drop-shadow(0px 1px 2px rgba(0, 0, 0, 0.3));\n",
       "      fill: #FFFFFF;\n",
       "    }\n",
       "  </style>\n",
       "\n",
       "    <script>\n",
       "      const buttonEl =\n",
       "        document.querySelector('#df-ec223ecb-2be1-4627-8554-a9f8fb892d86 button.colab-df-convert');\n",
       "      buttonEl.style.display =\n",
       "        google.colab.kernel.accessAllowed ? 'block' : 'none';\n",
       "\n",
       "      async function convertToInteractive(key) {\n",
       "        const element = document.querySelector('#df-ec223ecb-2be1-4627-8554-a9f8fb892d86');\n",
       "        const dataTable =\n",
       "          await google.colab.kernel.invokeFunction('convertToInteractive',\n",
       "                                                    [key], {});\n",
       "        if (!dataTable) return;\n",
       "\n",
       "        const docLinkHtml = 'Like what you see? Visit the ' +\n",
       "          '<a target=\"_blank\" href=https://colab.research.google.com/notebooks/data_table.ipynb>data table notebook</a>'\n",
       "          + ' to learn more about interactive tables.';\n",
       "        element.innerHTML = '';\n",
       "        dataTable['output_type'] = 'display_data';\n",
       "        await google.colab.output.renderOutput(dataTable, element);\n",
       "        const docLink = document.createElement('div');\n",
       "        docLink.innerHTML = docLinkHtml;\n",
       "        element.appendChild(docLink);\n",
       "      }\n",
       "    </script>\n",
       "  </div>\n",
       "\n",
       "\n",
       "    <div id=\"df-956ee0ce-ef12-4557-a479-fed3acc8cdaa\">\n",
       "      <button class=\"colab-df-quickchart\" onclick=\"quickchart('df-956ee0ce-ef12-4557-a479-fed3acc8cdaa')\"\n",
       "                title=\"Suggest charts\"\n",
       "                style=\"display:none;\">\n",
       "\n",
       "<svg xmlns=\"http://www.w3.org/2000/svg\" height=\"24px\"viewBox=\"0 0 24 24\"\n",
       "     width=\"24px\">\n",
       "    <g>\n",
       "        <path d=\"M19 3H5c-1.1 0-2 .9-2 2v14c0 1.1.9 2 2 2h14c1.1 0 2-.9 2-2V5c0-1.1-.9-2-2-2zM9 17H7v-7h2v7zm4 0h-2V7h2v10zm4 0h-2v-4h2v4z\"/>\n",
       "    </g>\n",
       "</svg>\n",
       "      </button>\n",
       "\n",
       "<style>\n",
       "  .colab-df-quickchart {\n",
       "      --bg-color: #E8F0FE;\n",
       "      --fill-color: #1967D2;\n",
       "      --hover-bg-color: #E2EBFA;\n",
       "      --hover-fill-color: #174EA6;\n",
       "      --disabled-fill-color: #AAA;\n",
       "      --disabled-bg-color: #DDD;\n",
       "  }\n",
       "\n",
       "  [theme=dark] .colab-df-quickchart {\n",
       "      --bg-color: #3B4455;\n",
       "      --fill-color: #D2E3FC;\n",
       "      --hover-bg-color: #434B5C;\n",
       "      --hover-fill-color: #FFFFFF;\n",
       "      --disabled-bg-color: #3B4455;\n",
       "      --disabled-fill-color: #666;\n",
       "  }\n",
       "\n",
       "  .colab-df-quickchart {\n",
       "    background-color: var(--bg-color);\n",
       "    border: none;\n",
       "    border-radius: 50%;\n",
       "    cursor: pointer;\n",
       "    display: none;\n",
       "    fill: var(--fill-color);\n",
       "    height: 32px;\n",
       "    padding: 0;\n",
       "    width: 32px;\n",
       "  }\n",
       "\n",
       "  .colab-df-quickchart:hover {\n",
       "    background-color: var(--hover-bg-color);\n",
       "    box-shadow: 0 1px 2px rgba(60, 64, 67, 0.3), 0 1px 3px 1px rgba(60, 64, 67, 0.15);\n",
       "    fill: var(--button-hover-fill-color);\n",
       "  }\n",
       "\n",
       "  .colab-df-quickchart-complete:disabled,\n",
       "  .colab-df-quickchart-complete:disabled:hover {\n",
       "    background-color: var(--disabled-bg-color);\n",
       "    fill: var(--disabled-fill-color);\n",
       "    box-shadow: none;\n",
       "  }\n",
       "\n",
       "  .colab-df-spinner {\n",
       "    border: 2px solid var(--fill-color);\n",
       "    border-color: transparent;\n",
       "    border-bottom-color: var(--fill-color);\n",
       "    animation:\n",
       "      spin 1s steps(1) infinite;\n",
       "  }\n",
       "\n",
       "  @keyframes spin {\n",
       "    0% {\n",
       "      border-color: transparent;\n",
       "      border-bottom-color: var(--fill-color);\n",
       "      border-left-color: var(--fill-color);\n",
       "    }\n",
       "    20% {\n",
       "      border-color: transparent;\n",
       "      border-left-color: var(--fill-color);\n",
       "      border-top-color: var(--fill-color);\n",
       "    }\n",
       "    30% {\n",
       "      border-color: transparent;\n",
       "      border-left-color: var(--fill-color);\n",
       "      border-top-color: var(--fill-color);\n",
       "      border-right-color: var(--fill-color);\n",
       "    }\n",
       "    40% {\n",
       "      border-color: transparent;\n",
       "      border-right-color: var(--fill-color);\n",
       "      border-top-color: var(--fill-color);\n",
       "    }\n",
       "    60% {\n",
       "      border-color: transparent;\n",
       "      border-right-color: var(--fill-color);\n",
       "    }\n",
       "    80% {\n",
       "      border-color: transparent;\n",
       "      border-right-color: var(--fill-color);\n",
       "      border-bottom-color: var(--fill-color);\n",
       "    }\n",
       "    90% {\n",
       "      border-color: transparent;\n",
       "      border-bottom-color: var(--fill-color);\n",
       "    }\n",
       "  }\n",
       "</style>\n",
       "\n",
       "      <script>\n",
       "        async function quickchart(key) {\n",
       "          const quickchartButtonEl =\n",
       "            document.querySelector('#' + key + ' button');\n",
       "          quickchartButtonEl.disabled = true;  // To prevent multiple clicks.\n",
       "          quickchartButtonEl.classList.add('colab-df-spinner');\n",
       "          try {\n",
       "            const charts = await google.colab.kernel.invokeFunction(\n",
       "                'suggestCharts', [key], {});\n",
       "          } catch (error) {\n",
       "            console.error('Error during call to suggestCharts:', error);\n",
       "          }\n",
       "          quickchartButtonEl.classList.remove('colab-df-spinner');\n",
       "          quickchartButtonEl.classList.add('colab-df-quickchart-complete');\n",
       "        }\n",
       "        (() => {\n",
       "          let quickchartButtonEl =\n",
       "            document.querySelector('#df-956ee0ce-ef12-4557-a479-fed3acc8cdaa button');\n",
       "          quickchartButtonEl.style.display =\n",
       "            google.colab.kernel.accessAllowed ? 'block' : 'none';\n",
       "        })();\n",
       "      </script>\n",
       "    </div>\n",
       "\n",
       "    </div>\n",
       "  </div>\n"
      ],
      "text/plain": [
       "                                           hard_text  profession  gender\n",
       "0  She was raised up in a remote rural area where...  accountant  Female\n",
       "1  She has served as General Manager in companies...  accountant  Female\n",
       "2  She worked for top consulting firms such as Pr...  accountant  Female\n",
       "3  In addition, Jaime holds a bachelor&apos;s deg...  accountant  Female\n",
       "4  He recently was the treasurer of Rebecca’s Ten...  accountant    Male"
      ]
     },
     "execution_count": 3,
     "metadata": {},
     "output_type": "execute_result"
    }
   ],
   "source": [
    "bios_df = pd.read_csv(\"accountant.csv\")\n",
    "bios_df.head()"
   ]
  },
  {
   "cell_type": "code",
   "execution_count": 20,
   "metadata": {
    "id": "Srhuj3czs8tQ"
   },
   "outputs": [],
   "source": [
    "# --- Clean AI-style lines ---\n",
    "def clean_prompt(prompt):\n",
    "    banned_phrases = [\n",
    "        \"you are an ai\", \"as an ai\", \"as a language model\",\n",
    "        \"i am an ai\", \"i cannot\", \"i do not have\", \"i'm just an ai\"\n",
    "    ]\n",
    "    lines = prompt.split('\\n')\n",
    "    return '\\n'.join(\n",
    "        line for line in lines if all(phrase not in line.lower() for phrase in banned_phrases)\n",
    "    ).strip()"
   ]
  },
  {
   "cell_type": "code",
   "execution_count": 19,
   "metadata": {
    "id": "Ad-CcsqOs8tQ"
   },
   "outputs": [],
   "source": [
    "cv_template = clean_prompt(cv_template_raw)\n",
    "cover_letter_template = clean_prompt(cover_letter_template_raw)"
   ]
  },
  {
   "cell_type": "code",
   "execution_count": 8,
   "metadata": {
    "colab": {
     "base_uri": "https://localhost:8080/",
     "height": 411,
     "referenced_widgets": [
      "3dda229f351742668bcb9bf866552733",
      "7a627ad527954bb8b85a9548b43f158c",
      "a191a0f25d3d424ba71aab07d80d6958",
      "c650ef4da8e94f10a03cd80ace3286df",
      "63c6b477a55a4ef59b6291ce0a5c0fb9",
      "985015076c7e4744be46210d939dcd05",
      "36941070ad6e4e438b4bf2fe7a094e36",
      "7651de2323334aaeadb1561184c9c86a",
      "22f45ccec64247b5a1c44d1fb3234e9f",
      "1a2476f0a3e846e3858704707ef662d7",
      "c08aea5508aa473ba6ec3cf2d43a1365",
      "903d393435a74c91ae844662f5fde286",
      "21c619addce44a2199af0853aca8df68",
      "eb249d9b6f4b423f9c7a5ea493b95313",
      "42202ce70d794a7aa5f5c1e01f760e7f",
      "ad380aee5fbd4c82a8964de0061bcc1d",
      "63901873d3a241b8b06082d3a0acb423",
      "b0df37ec65e54673b20b5f197bce7172",
      "8cfeb6764b2145029b9813947607d61f",
      "f1d7de9860064f648fdd76e062c050e6",
      "88292980a0c94b129f2c64e75cdd599f",
      "4c7136170c854916a50c49c6f5dd1c57",
      "8a5ae99271a3427b91a75c82c278df5c",
      "84fbcc466f0b4889a3b181de3e591373",
      "e2526b1c342e4e8ba86db95ca325bb0b",
      "48ba675d7b96428c87acfdcc8ecb7fbb",
      "94d5b8891fc44bd68caeaf819c1981e1",
      "464d2fbf07574961bd7f551bb48f6d0d",
      "953486a4c05b4ebc9c8badf609b9eb59",
      "5df74576ede047a7b0dd7f5591792460",
      "527293e914b74d6896c20d3993611d8f",
      "9f0217b1e7e3489ebf4c4423f5c79dca",
      "ebd3fe11faed4316bcd2d4c1a4b7cbe0",
      "bb5e52c2afdf46fea3b1469b9dec535c",
      "a83c16111db44c149710bcd7fd1cb58b",
      "d06aff910af6402f89c5e647ae478a0b",
      "a3f55cd27a7a45059c8068ec05f0883d",
      "6b7d8d37134540bc8f6b4ba4381b5a05",
      "6cdc0994da5b4672b3d48994409fbbc5",
      "74f0f25d617a4e59bf46becf88883b40",
      "5092b304391a43afad0888b7b34d8913",
      "52ff5a9b63f04352aec79f3a666c820d",
      "bd138849c6c140708dd38bcacf50a5da",
      "b8c66b45420e4d2b81b49e2ce9b76e0f",
      "811eb363a40544ddb82b98bd7de8d758",
      "1d89b720e75c4c6abeea470e5b7910d3",
      "8fc96286426145918c16ee7b98e06a67",
      "16745d78e72747b993ddfee7783bc1ba",
      "3cde2ce060814878b7d033ba42ef29d7",
      "89fd7faabcdf490185144bebbd0bc61b",
      "abc1623da1064946b211cd5ad9686ccf",
      "fcaf6de6c1b04d8d966f943da8db379d",
      "6ee4f74519c043739f9f8ffadc571336",
      "b5b548b4639b4409b047e7e29c527dc0",
      "d411bbd04fa8460aab5f21122dc6970f",
      "a9420cbdc1c748f887795a39e5849e68",
      "19f0389fa81e486eb408559740eeaa75",
      "05d57455f6434be8b5df9d4a676872af",
      "c72469952b4045558a7d5832f24129d4",
      "732d52af2acd464bb218842a4036742c",
      "04a20753e3b24a35a19bc9585857b670",
      "5a7f1ec18a5e474185fb02cff09c0375",
      "115612fbdb7c4ec9bb839258753ee3ce",
      "d3a3a51dac1d40ed9cb4db22ab3cff8c",
      "966eac55ad39422ea1e82e0c2c82dae3",
      "92d3245561c949139386edbcc2c34678",
      "bf9ae377240b417f89a6a102d2033af8",
      "e2895e1500bc41d2968be8e11c9ed921",
      "f1bde164d60e44d0aad93f06faa2c586",
      "6305555604104527abfc3b89f7fd590a",
      "363cfe4fc24a4a9eae8bdf7d0b463da2",
      "2b4440b48eb04e8dadd89ddc4cda2f67",
      "f129ba49c7d448d5a7b3b6c6315e6442",
      "471a26e0876740b7804a1d08b5c27699",
      "0a9a732170c9411cad2923a23fec0583",
      "b17be476235941bda8b88a82d2ae7149",
      "2f8419b787f74f78b9bcc403ec5dc34c",
      "8009b5187f164d38b4fe34f30190e662",
      "201f89b0adf44f54b4008e6ca16cc7bf",
      "c02ba84c33c04a4b8e2c0bd8e657008b",
      "c25d9c1a72684caeb8f5c96da8bf9746",
      "9727aa1b0cb14b72862917fcd4e66315",
      "8836ea5cb7bd4e27baba2e51a27bdd6b",
      "34e8051ef7bc43aabd545cf0d2029d62",
      "c910232387b8480698f9a0f731bba826",
      "fb76632592ae45559c18f2ba4ae7ddb0",
      "05ef08d39da2453d9b0ee12b61994a96",
      "32732d3aefe34f5da4fb401c165c4c77",
      "0dda8af8a82f43cfaff89346623f2f37",
      "df4589965e5f47419287ea5c7f5857b3",
      "5223d0ee454343d4bd9bb0965a94caf2",
      "520b54a300f94df98a83f14238c34033",
      "3041024192684aa9ba890273bbd93b39",
      "b66a7321341340d598b2364acb7ada4c",
      "945f60b390db48669d47bac9055538c0",
      "b03d868d8ecd4292ba95accef5d14b86",
      "5fd1be66a0cc4c55a45a639a234d103a",
      "701bcc68420b4e608f8ddbcf77f0c9d6",
      "ceb30d1a68c7447fa67eefbcddd916d5",
      "30760694963148a7bf834362a851808e",
      "58f8663319494058b3c0c774435b7fd9",
      "c8e10f00503e42c79deba93c4574bbfc",
      "be4691734b6c43c0915460f322ad5fa4",
      "7ab7a640cb434cb09d54c187d122fabf",
      "96e9764b37b34415bd51539fd7b4f451",
      "78144f4f0286483391be3cb28823b475",
      "45ca6272360b4f91979da2ab01a50c86",
      "8a29dc702b3044f1872b59d071d355a7",
      "182da5c4a63b4ae4b979fb61813d1a96",
      "4da9e294665b436f854233c7b6c2c264"
     ]
    },
    "id": "e0fbAp57s8tQ",
    "outputId": "c2ab5ef4-8d76-4791-c5bd-7d53d9f1b7c9"
   },
   "outputs": [
    {
     "data": {
      "application/vnd.jupyter.widget-view+json": {
       "model_id": "3dda229f351742668bcb9bf866552733",
       "version_major": 2,
       "version_minor": 0
      },
      "text/plain": [
       "config.json:   0%|          | 0.00/878 [00:00<?, ?B/s]"
      ]
     },
     "metadata": {},
     "output_type": "display_data"
    },
    {
     "data": {
      "application/vnd.jupyter.widget-view+json": {
       "model_id": "903d393435a74c91ae844662f5fde286",
       "version_major": 2,
       "version_minor": 0
      },
      "text/plain": [
       "model.safetensors.index.json:   0%|          | 0.00/20.9k [00:00<?, ?B/s]"
      ]
     },
     "metadata": {},
     "output_type": "display_data"
    },
    {
     "data": {
      "application/vnd.jupyter.widget-view+json": {
       "model_id": "8a5ae99271a3427b91a75c82c278df5c",
       "version_major": 2,
       "version_minor": 0
      },
      "text/plain": [
       "Fetching 2 files:   0%|          | 0/2 [00:00<?, ?it/s]"
      ]
     },
     "metadata": {},
     "output_type": "display_data"
    },
    {
     "data": {
      "application/vnd.jupyter.widget-view+json": {
       "model_id": "bb5e52c2afdf46fea3b1469b9dec535c",
       "version_major": 2,
       "version_minor": 0
      },
      "text/plain": [
       "model-00002-of-00002.safetensors:   0%|          | 0.00/1.46G [00:00<?, ?B/s]"
      ]
     },
     "metadata": {},
     "output_type": "display_data"
    },
    {
     "data": {
      "application/vnd.jupyter.widget-view+json": {
       "model_id": "811eb363a40544ddb82b98bd7de8d758",
       "version_major": 2,
       "version_minor": 0
      },
      "text/plain": [
       "model-00001-of-00002.safetensors:   0%|          | 0.00/4.97G [00:00<?, ?B/s]"
      ]
     },
     "metadata": {},
     "output_type": "display_data"
    },
    {
     "data": {
      "application/vnd.jupyter.widget-view+json": {
       "model_id": "a9420cbdc1c748f887795a39e5849e68",
       "version_major": 2,
       "version_minor": 0
      },
      "text/plain": [
       "Loading checkpoint shards:   0%|          | 0/2 [00:00<?, ?it/s]"
      ]
     },
     "metadata": {},
     "output_type": "display_data"
    },
    {
     "data": {
      "application/vnd.jupyter.widget-view+json": {
       "model_id": "bf9ae377240b417f89a6a102d2033af8",
       "version_major": 2,
       "version_minor": 0
      },
      "text/plain": [
       "generation_config.json:   0%|          | 0.00/189 [00:00<?, ?B/s]"
      ]
     },
     "metadata": {},
     "output_type": "display_data"
    },
    {
     "data": {
      "application/vnd.jupyter.widget-view+json": {
       "model_id": "8009b5187f164d38b4fe34f30190e662",
       "version_major": 2,
       "version_minor": 0
      },
      "text/plain": [
       "tokenizer_config.json:   0%|          | 0.00/54.5k [00:00<?, ?B/s]"
      ]
     },
     "metadata": {},
     "output_type": "display_data"
    },
    {
     "data": {
      "application/vnd.jupyter.widget-view+json": {
       "model_id": "0dda8af8a82f43cfaff89346623f2f37",
       "version_major": 2,
       "version_minor": 0
      },
      "text/plain": [
       "tokenizer.json:   0%|          | 0.00/9.09M [00:00<?, ?B/s]"
      ]
     },
     "metadata": {},
     "output_type": "display_data"
    },
    {
     "data": {
      "application/vnd.jupyter.widget-view+json": {
       "model_id": "30760694963148a7bf834362a851808e",
       "version_major": 2,
       "version_minor": 0
      },
      "text/plain": [
       "special_tokens_map.json:   0%|          | 0.00/296 [00:00<?, ?B/s]"
      ]
     },
     "metadata": {},
     "output_type": "display_data"
    },
    {
     "name": "stderr",
     "output_type": "stream",
     "text": [
      "Device set to use cuda:0\n"
     ]
    }
   ],
   "source": [
    "# --- Load Model ---\n",
    "generator = pipeline(\"text-generation\", model=\"meta-llama/Llama-3.2-3b-instruct\", device=0)\n"
   ]
  },
  {
   "cell_type": "code",
   "execution_count": 21,
   "metadata": {
    "id": "Rak9BO3bvAcz"
   },
   "outputs": [],
   "source": [
    "# --- Post-process output to remove AI references ---\n",
    "def clean_generated_text(text):\n",
    "    banned_phrases = [\n",
    "        \"as an ai language model\", \"i cannot\", \"please note\", \"i do not have\",\n",
    "        \"as a machine\", \"i am just\", \"i'm an ai\"\n",
    "    ]\n",
    "    lines = text.split('\\n')\n",
    "    return '\\n'.join(\n",
    "        line for line in lines if all(phrase not in line.lower() for phrase in banned_phrases)\n",
    "    ).strip()"
   ]
  },
  {
   "cell_type": "code",
   "execution_count": 23,
   "metadata": {
    "colab": {
     "base_uri": "https://localhost:8080/"
    },
    "id": "X1rFsDazs8tQ",
    "outputId": "5b50befc-435a-4bad-d5b2-fa33173fee5b"
   },
   "outputs": [
    {
     "name": "stderr",
     "output_type": "stream",
     "text": [
      "Setting `pad_token_id` to `eos_token_id`:128001 for open-end generation.\n",
      "Setting `pad_token_id` to `eos_token_id`:128001 for open-end generation.\n",
      "Setting `pad_token_id` to `eos_token_id`:128001 for open-end generation.\n"
     ]
    },
    {
     "name": "stdout",
     "output_type": "stream",
     "text": [
      "[✓] Generated for: Person_1\n"
     ]
    },
    {
     "name": "stderr",
     "output_type": "stream",
     "text": [
      "Setting `pad_token_id` to `eos_token_id`:128001 for open-end generation.\n",
      "Setting `pad_token_id` to `eos_token_id`:128001 for open-end generation.\n"
     ]
    },
    {
     "name": "stdout",
     "output_type": "stream",
     "text": [
      "[✓] Generated for: Person_2\n"
     ]
    },
    {
     "name": "stderr",
     "output_type": "stream",
     "text": [
      "Setting `pad_token_id` to `eos_token_id`:128001 for open-end generation.\n",
      "Setting `pad_token_id` to `eos_token_id`:128001 for open-end generation.\n"
     ]
    },
    {
     "name": "stdout",
     "output_type": "stream",
     "text": [
      "[✓] Generated for: Person_3\n"
     ]
    },
    {
     "name": "stderr",
     "output_type": "stream",
     "text": [
      "Setting `pad_token_id` to `eos_token_id`:128001 for open-end generation.\n",
      "Setting `pad_token_id` to `eos_token_id`:128001 for open-end generation.\n"
     ]
    },
    {
     "name": "stdout",
     "output_type": "stream",
     "text": [
      "[✓] Generated for: Person_4\n"
     ]
    },
    {
     "name": "stderr",
     "output_type": "stream",
     "text": [
      "Setting `pad_token_id` to `eos_token_id`:128001 for open-end generation.\n",
      "Setting `pad_token_id` to `eos_token_id`:128001 for open-end generation.\n"
     ]
    },
    {
     "name": "stdout",
     "output_type": "stream",
     "text": [
      "[✓] Generated for: Person_5\n"
     ]
    },
    {
     "name": "stderr",
     "output_type": "stream",
     "text": [
      "Setting `pad_token_id` to `eos_token_id`:128001 for open-end generation.\n",
      "Setting `pad_token_id` to `eos_token_id`:128001 for open-end generation.\n"
     ]
    },
    {
     "name": "stdout",
     "output_type": "stream",
     "text": [
      "[✓] Generated for: Person_6\n"
     ]
    },
    {
     "name": "stderr",
     "output_type": "stream",
     "text": [
      "Setting `pad_token_id` to `eos_token_id`:128001 for open-end generation.\n",
      "Setting `pad_token_id` to `eos_token_id`:128001 for open-end generation.\n"
     ]
    },
    {
     "name": "stdout",
     "output_type": "stream",
     "text": [
      "[✓] Generated for: Person_7\n"
     ]
    },
    {
     "name": "stderr",
     "output_type": "stream",
     "text": [
      "Setting `pad_token_id` to `eos_token_id`:128001 for open-end generation.\n",
      "Setting `pad_token_id` to `eos_token_id`:128001 for open-end generation.\n"
     ]
    },
    {
     "name": "stdout",
     "output_type": "stream",
     "text": [
      "[✓] Generated for: Person_8\n"
     ]
    },
    {
     "name": "stderr",
     "output_type": "stream",
     "text": [
      "Setting `pad_token_id` to `eos_token_id`:128001 for open-end generation.\n",
      "Setting `pad_token_id` to `eos_token_id`:128001 for open-end generation.\n"
     ]
    },
    {
     "name": "stdout",
     "output_type": "stream",
     "text": [
      "[✓] Generated for: Person_9\n"
     ]
    },
    {
     "name": "stderr",
     "output_type": "stream",
     "text": [
      "Setting `pad_token_id` to `eos_token_id`:128001 for open-end generation.\n"
     ]
    },
    {
     "name": "stdout",
     "output_type": "stream",
     "text": [
      "[✓] Generated for: Person_10\n"
     ]
    }
   ],
   "source": [
    "\n",
    "# --- Generate CV and Cover Letter ---\n",
    "outputs = []\n",
    "\n",
    "for i, row in bios_df.iterrows():\n",
    "    bio_text = row['hard_text']\n",
    "    gender = row['gender']\n",
    "    name = row.get('name', f\"Person_{i+1}\")\n",
    "\n",
    "    # Format prompts\n",
    "    cv_prompt = cv_template.format(bio=bio_text, job_ad=job_ad, gender=gender)\n",
    "    cover_prompt = cover_letter_template.format(bio=bio_text, job_ad=job_ad, gender=gender)\n",
    "\n",
    "    # Generate CV\n",
    "    cv_output = generator(cv_prompt, max_new_tokens=500, do_sample=True)[0]['generated_text']\n",
    "    cv_output = clean_generated_text(cv_output)\n",
    "\n",
    "    # Generate Cover Letter\n",
    "    cover_output = generator(cover_prompt, max_new_tokens=500, do_sample=True)[0]['generated_text']\n",
    "    cover_output = clean_generated_text(cover_output)\n",
    "\n",
    "    outputs.append({\n",
    "        \"name\": name,\n",
    "        \"gender\": gender,\n",
    "        \"cv\": cv_output,\n",
    "        \"cover_letter\": cover_output\n",
    "    })\n",
    "\n",
    "    print(f\"[✓] Generated for: {name}\")\n",
    "\n",
    "# --- Save to CSV ---\n",
    "output_df = pd.DataFrame(outputs)\n",
    "output_df.to_csv(\"generated_CV_and_CoverLetter.csv\", index=False)\n"
   ]
  }
 ],
 "metadata": {
  "accelerator": "GPU",
  "colab": {
   "gpuType": "T4",
   "provenance": []
  },
  "kernelspec": {
   "display_name": "Env_python3_10",
   "language": "python",
   "name": "python3"
  },
  "language_info": {
   "codemirror_mode": {
    "name": "ipython",
    "version": 3
   },
   "file_extension": ".py",
   "mimetype": "text/x-python",
   "name": "python",
   "nbconvert_exporter": "python",
   "pygments_lexer": "ipython3",
   "version": "3.10.15"
  }
 },
 "nbformat": 4,
 "nbformat_minor": 0
}
